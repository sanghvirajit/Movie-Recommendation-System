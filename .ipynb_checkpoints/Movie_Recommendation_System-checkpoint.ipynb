{
 "cells": [
  {
   "cell_type": "code",
   "execution_count": 1,
   "metadata": {},
   "outputs": [],
   "source": [
    "import os\n",
    "import numpy as np\n",
    "import pandas as pd\n",
    "import matplotlib.pyplot as plt\n",
    "from sklearn.model_selection import train_test_split\n",
    "from sklearn.preprocessing import LabelEncoder"
   ]
  },
  {
   "cell_type": "code",
   "execution_count": 2,
   "metadata": {},
   "outputs": [],
   "source": [
    "import tensorflow as tf\n",
    "import keras\n",
    "from pprint import pprint"
   ]
  },
  {
   "cell_type": "code",
   "execution_count": 4,
   "metadata": {},
   "outputs": [
    {
     "name": "stdout",
     "output_type": "stream",
     "text": [
      "--2021-06-22 11:46:49--  http://files.grouplens.org/datasets/movielens/ml-100k.zip\n",
      "Auflösen des Hostnamens files.grouplens.org (files.grouplens.org) … 128.101.65.152\n",
      "Verbindungsaufbau zu files.grouplens.org (files.grouplens.org)|128.101.65.152|:80 … verbunden.\n",
      "HTTP-Anforderung gesendet, auf Antwort wird gewartet … 200 OK\n",
      "Länge: 4924029 (4,7M) [application/zip]\n",
      "Wird in »ml-100k.zip« gespeichert.\n",
      "\n",
      "ml-100k.zip         100%[===================>]   4,70M  4,67MB/s    in 1,0s    \n",
      "\n",
      "2021-06-22 11:46:50 (4,67 MB/s) - »ml-100k.zip« gespeichert [4924029/4924029]\n",
      "\n",
      "Archive:  ml-100k.zip\n",
      "   creating: ml-100k/\n",
      "  inflating: ml-100k/allbut.pl       \n",
      "  inflating: ml-100k/mku.sh          \n",
      "  inflating: ml-100k/README          \n",
      "  inflating: ml-100k/u.data          \n",
      "  inflating: ml-100k/u.genre         \n",
      "  inflating: ml-100k/u.info          \n",
      "  inflating: ml-100k/u.item          \n",
      "  inflating: ml-100k/u.occupation    \n",
      "  inflating: ml-100k/u.user          \n",
      "  inflating: ml-100k/u1.base         \n",
      "  inflating: ml-100k/u1.test         \n",
      "  inflating: ml-100k/u2.base         \n",
      "  inflating: ml-100k/u2.test         \n",
      "  inflating: ml-100k/u3.base         \n",
      "  inflating: ml-100k/u3.test         \n",
      "  inflating: ml-100k/u4.base         \n",
      "  inflating: ml-100k/u4.test         \n",
      "  inflating: ml-100k/u5.base         \n",
      "  inflating: ml-100k/u5.test         \n",
      "  inflating: ml-100k/ua.base         \n",
      "  inflating: ml-100k/ua.test         \n",
      "  inflating: ml-100k/ub.base         \n",
      "  inflating: ml-100k/ub.test         \n"
     ]
    }
   ],
   "source": [
    "DATASET_LINK='http://files.grouplens.org/datasets/movielens/ml-100k.zip'\n",
    "\n",
    "!wget -nc http://files.grouplens.org/datasets/movielens/ml-100k.zip\n",
    "!unzip -n ml-100k.zip"
   ]
  },
  {
   "cell_type": "code",
   "execution_count": 6,
   "metadata": {},
   "outputs": [
    {
     "data": {
      "text/html": [
       "<div>\n",
       "<style scoped>\n",
       "    .dataframe tbody tr th:only-of-type {\n",
       "        vertical-align: middle;\n",
       "    }\n",
       "\n",
       "    .dataframe tbody tr th {\n",
       "        vertical-align: top;\n",
       "    }\n",
       "\n",
       "    .dataframe thead th {\n",
       "        text-align: right;\n",
       "    }\n",
       "</style>\n",
       "<table border=\"1\" class=\"dataframe\">\n",
       "  <thead>\n",
       "    <tr style=\"text-align: right;\">\n",
       "      <th></th>\n",
       "      <th>0</th>\n",
       "    </tr>\n",
       "  </thead>\n",
       "  <tbody>\n",
       "    <tr>\n",
       "      <th>0</th>\n",
       "      <td>943 users</td>\n",
       "    </tr>\n",
       "    <tr>\n",
       "      <th>1</th>\n",
       "      <td>1682 items</td>\n",
       "    </tr>\n",
       "    <tr>\n",
       "      <th>2</th>\n",
       "      <td>100000 ratings</td>\n",
       "    </tr>\n",
       "  </tbody>\n",
       "</table>\n",
       "</div>"
      ],
      "text/plain": [
       "                0\n",
       "0       943 users\n",
       "1      1682 items\n",
       "2  100000 ratings"
      ]
     },
     "execution_count": 6,
     "metadata": {},
     "output_type": "execute_result"
    }
   ],
   "source": [
    "data_info = pd.read_csv(\"ml-100k/u.info\", header=None)\n",
    "data_info"
   ]
  },
  {
   "cell_type": "code",
   "execution_count": 14,
   "metadata": {},
   "outputs": [
    {
     "data": {
      "text/html": [
       "<div>\n",
       "<style scoped>\n",
       "    .dataframe tbody tr th:only-of-type {\n",
       "        vertical-align: middle;\n",
       "    }\n",
       "\n",
       "    .dataframe tbody tr th {\n",
       "        vertical-align: top;\n",
       "    }\n",
       "\n",
       "    .dataframe thead th {\n",
       "        text-align: right;\n",
       "    }\n",
       "</style>\n",
       "<table border=\"1\" class=\"dataframe\">\n",
       "  <thead>\n",
       "    <tr style=\"text-align: right;\">\n",
       "      <th></th>\n",
       "      <th>user_id</th>\n",
       "      <th>movie_id</th>\n",
       "      <th>ratings</th>\n",
       "      <th>time_stamp</th>\n",
       "    </tr>\n",
       "  </thead>\n",
       "  <tbody>\n",
       "    <tr>\n",
       "      <th>0</th>\n",
       "      <td>196</td>\n",
       "      <td>242</td>\n",
       "      <td>3</td>\n",
       "      <td>1997-12-04 15:55:49</td>\n",
       "    </tr>\n",
       "    <tr>\n",
       "      <th>1</th>\n",
       "      <td>186</td>\n",
       "      <td>302</td>\n",
       "      <td>3</td>\n",
       "      <td>1998-04-04 19:22:22</td>\n",
       "    </tr>\n",
       "    <tr>\n",
       "      <th>2</th>\n",
       "      <td>22</td>\n",
       "      <td>377</td>\n",
       "      <td>1</td>\n",
       "      <td>1997-11-07 07:18:36</td>\n",
       "    </tr>\n",
       "    <tr>\n",
       "      <th>3</th>\n",
       "      <td>244</td>\n",
       "      <td>51</td>\n",
       "      <td>2</td>\n",
       "      <td>1997-11-27 05:02:03</td>\n",
       "    </tr>\n",
       "    <tr>\n",
       "      <th>4</th>\n",
       "      <td>166</td>\n",
       "      <td>346</td>\n",
       "      <td>1</td>\n",
       "      <td>1998-02-02 05:33:16</td>\n",
       "    </tr>\n",
       "  </tbody>\n",
       "</table>\n",
       "</div>"
      ],
      "text/plain": [
       "   user_id  movie_id  ratings          time_stamp\n",
       "0      196       242        3 1997-12-04 15:55:49\n",
       "1      186       302        3 1998-04-04 19:22:22\n",
       "2       22       377        1 1997-11-07 07:18:36\n",
       "3      244        51        2 1997-11-27 05:02:03\n",
       "4      166       346        1 1998-02-02 05:33:16"
      ]
     },
     "execution_count": 14,
     "metadata": {},
     "output_type": "execute_result"
    }
   ],
   "source": [
    "columns = ['user_id', 'movie_id', 'ratings', 'time_stamp']\n",
    "data = pd.read_csv(\"ml-100k/u.data\", sep='\\t', header=None, names=columns)\n",
    "data['time_stamp'] = pd.to_datetime(data['time_stamp'], unit='s')\n",
    "data.head()"
   ]
  },
  {
   "cell_type": "code",
   "execution_count": 24,
   "metadata": {},
   "outputs": [
    {
     "data": {
      "text/html": [
       "<div>\n",
       "<style scoped>\n",
       "    .dataframe tbody tr th:only-of-type {\n",
       "        vertical-align: middle;\n",
       "    }\n",
       "\n",
       "    .dataframe tbody tr th {\n",
       "        vertical-align: top;\n",
       "    }\n",
       "\n",
       "    .dataframe thead th {\n",
       "        text-align: right;\n",
       "    }\n",
       "</style>\n",
       "<table border=\"1\" class=\"dataframe\">\n",
       "  <thead>\n",
       "    <tr style=\"text-align: right;\">\n",
       "      <th></th>\n",
       "      <th>movie_id</th>\n",
       "      <th>movie title</th>\n",
       "      <th>release date</th>\n",
       "      <th>video release date</th>\n",
       "      <th>IMDb URL</th>\n",
       "      <th>unknown</th>\n",
       "      <th>Action</th>\n",
       "      <th>Adventure</th>\n",
       "      <th>Animation</th>\n",
       "      <th>Children</th>\n",
       "      <th>...</th>\n",
       "      <th>Fantasy</th>\n",
       "      <th>Film-Noir</th>\n",
       "      <th>Horror</th>\n",
       "      <th>Musical</th>\n",
       "      <th>Mystery</th>\n",
       "      <th>Romance</th>\n",
       "      <th>Sci-Fi</th>\n",
       "      <th>Thriller</th>\n",
       "      <th>War</th>\n",
       "      <th>Western</th>\n",
       "    </tr>\n",
       "  </thead>\n",
       "  <tbody>\n",
       "    <tr>\n",
       "      <th>0</th>\n",
       "      <td>1</td>\n",
       "      <td>Toy Story (1995)</td>\n",
       "      <td>01-Jan-1995</td>\n",
       "      <td>NaN</td>\n",
       "      <td>http://us.imdb.com/M/title-exact?Toy%20Story%2...</td>\n",
       "      <td>0</td>\n",
       "      <td>0</td>\n",
       "      <td>0</td>\n",
       "      <td>1</td>\n",
       "      <td>1</td>\n",
       "      <td>...</td>\n",
       "      <td>0</td>\n",
       "      <td>0</td>\n",
       "      <td>0</td>\n",
       "      <td>0</td>\n",
       "      <td>0</td>\n",
       "      <td>0</td>\n",
       "      <td>0</td>\n",
       "      <td>0</td>\n",
       "      <td>0</td>\n",
       "      <td>0</td>\n",
       "    </tr>\n",
       "    <tr>\n",
       "      <th>1</th>\n",
       "      <td>2</td>\n",
       "      <td>GoldenEye (1995)</td>\n",
       "      <td>01-Jan-1995</td>\n",
       "      <td>NaN</td>\n",
       "      <td>http://us.imdb.com/M/title-exact?GoldenEye%20(...</td>\n",
       "      <td>0</td>\n",
       "      <td>1</td>\n",
       "      <td>1</td>\n",
       "      <td>0</td>\n",
       "      <td>0</td>\n",
       "      <td>...</td>\n",
       "      <td>0</td>\n",
       "      <td>0</td>\n",
       "      <td>0</td>\n",
       "      <td>0</td>\n",
       "      <td>0</td>\n",
       "      <td>0</td>\n",
       "      <td>0</td>\n",
       "      <td>1</td>\n",
       "      <td>0</td>\n",
       "      <td>0</td>\n",
       "    </tr>\n",
       "    <tr>\n",
       "      <th>2</th>\n",
       "      <td>3</td>\n",
       "      <td>Four Rooms (1995)</td>\n",
       "      <td>01-Jan-1995</td>\n",
       "      <td>NaN</td>\n",
       "      <td>http://us.imdb.com/M/title-exact?Four%20Rooms%...</td>\n",
       "      <td>0</td>\n",
       "      <td>0</td>\n",
       "      <td>0</td>\n",
       "      <td>0</td>\n",
       "      <td>0</td>\n",
       "      <td>...</td>\n",
       "      <td>0</td>\n",
       "      <td>0</td>\n",
       "      <td>0</td>\n",
       "      <td>0</td>\n",
       "      <td>0</td>\n",
       "      <td>0</td>\n",
       "      <td>0</td>\n",
       "      <td>1</td>\n",
       "      <td>0</td>\n",
       "      <td>0</td>\n",
       "    </tr>\n",
       "    <tr>\n",
       "      <th>3</th>\n",
       "      <td>4</td>\n",
       "      <td>Get Shorty (1995)</td>\n",
       "      <td>01-Jan-1995</td>\n",
       "      <td>NaN</td>\n",
       "      <td>http://us.imdb.com/M/title-exact?Get%20Shorty%...</td>\n",
       "      <td>0</td>\n",
       "      <td>1</td>\n",
       "      <td>0</td>\n",
       "      <td>0</td>\n",
       "      <td>0</td>\n",
       "      <td>...</td>\n",
       "      <td>0</td>\n",
       "      <td>0</td>\n",
       "      <td>0</td>\n",
       "      <td>0</td>\n",
       "      <td>0</td>\n",
       "      <td>0</td>\n",
       "      <td>0</td>\n",
       "      <td>0</td>\n",
       "      <td>0</td>\n",
       "      <td>0</td>\n",
       "    </tr>\n",
       "    <tr>\n",
       "      <th>4</th>\n",
       "      <td>5</td>\n",
       "      <td>Copycat (1995)</td>\n",
       "      <td>01-Jan-1995</td>\n",
       "      <td>NaN</td>\n",
       "      <td>http://us.imdb.com/M/title-exact?Copycat%20(1995)</td>\n",
       "      <td>0</td>\n",
       "      <td>0</td>\n",
       "      <td>0</td>\n",
       "      <td>0</td>\n",
       "      <td>0</td>\n",
       "      <td>...</td>\n",
       "      <td>0</td>\n",
       "      <td>0</td>\n",
       "      <td>0</td>\n",
       "      <td>0</td>\n",
       "      <td>0</td>\n",
       "      <td>0</td>\n",
       "      <td>0</td>\n",
       "      <td>1</td>\n",
       "      <td>0</td>\n",
       "      <td>0</td>\n",
       "    </tr>\n",
       "  </tbody>\n",
       "</table>\n",
       "<p>5 rows × 24 columns</p>\n",
       "</div>"
      ],
      "text/plain": [
       "   movie_id        movie title release date  video release date  \\\n",
       "0         1   Toy Story (1995)  01-Jan-1995                 NaN   \n",
       "1         2   GoldenEye (1995)  01-Jan-1995                 NaN   \n",
       "2         3  Four Rooms (1995)  01-Jan-1995                 NaN   \n",
       "3         4  Get Shorty (1995)  01-Jan-1995                 NaN   \n",
       "4         5     Copycat (1995)  01-Jan-1995                 NaN   \n",
       "\n",
       "                                            IMDb URL  unknown  Action  \\\n",
       "0  http://us.imdb.com/M/title-exact?Toy%20Story%2...        0       0   \n",
       "1  http://us.imdb.com/M/title-exact?GoldenEye%20(...        0       1   \n",
       "2  http://us.imdb.com/M/title-exact?Four%20Rooms%...        0       0   \n",
       "3  http://us.imdb.com/M/title-exact?Get%20Shorty%...        0       1   \n",
       "4  http://us.imdb.com/M/title-exact?Copycat%20(1995)        0       0   \n",
       "\n",
       "   Adventure  Animation  Children  ...  Fantasy  Film-Noir  Horror  Musical  \\\n",
       "0          0          1         1  ...        0          0       0        0   \n",
       "1          1          0         0  ...        0          0       0        0   \n",
       "2          0          0         0  ...        0          0       0        0   \n",
       "3          0          0         0  ...        0          0       0        0   \n",
       "4          0          0         0  ...        0          0       0        0   \n",
       "\n",
       "   Mystery  Romance  Sci-Fi  Thriller  War  Western  \n",
       "0        0        0       0         0    0        0  \n",
       "1        0        0       0         1    0        0  \n",
       "2        0        0       0         1    0        0  \n",
       "3        0        0       0         0    0        0  \n",
       "4        0        0       0         1    0        0  \n",
       "\n",
       "[5 rows x 24 columns]"
      ]
     },
     "execution_count": 24,
     "metadata": {},
     "output_type": "execute_result"
    }
   ],
   "source": [
    "columns = ['movie_id', 'movie title', 'release date', 'video release date' , 'IMDb URL', 'unknown', 'Action', 'Adventure', 'Animation', 'Children', 'Comedy', 'Crime', 'Documentary', 'Drama', 'Fantasy', 'Film-Noir', 'Horror', 'Musical', 'Mystery', 'Romance', 'Sci-Fi', 'Thriller', 'War', 'Western']\n",
    "movies = pd.read_csv(\"ml-100k/u.item\", sep='|', header=None, names = columns, encoding='latin-1')\n",
    "movies.head()"
   ]
  },
  {
   "cell_type": "code",
   "execution_count": 26,
   "metadata": {},
   "outputs": [
    {
     "data": {
      "text/html": [
       "<div>\n",
       "<style scoped>\n",
       "    .dataframe tbody tr th:only-of-type {\n",
       "        vertical-align: middle;\n",
       "    }\n",
       "\n",
       "    .dataframe tbody tr th {\n",
       "        vertical-align: top;\n",
       "    }\n",
       "\n",
       "    .dataframe thead th {\n",
       "        text-align: right;\n",
       "    }\n",
       "</style>\n",
       "<table border=\"1\" class=\"dataframe\">\n",
       "  <thead>\n",
       "    <tr style=\"text-align: right;\">\n",
       "      <th></th>\n",
       "      <th>movie_id</th>\n",
       "      <th>movie title</th>\n",
       "    </tr>\n",
       "  </thead>\n",
       "  <tbody>\n",
       "    <tr>\n",
       "      <th>0</th>\n",
       "      <td>1</td>\n",
       "      <td>Toy Story (1995)</td>\n",
       "    </tr>\n",
       "    <tr>\n",
       "      <th>1</th>\n",
       "      <td>2</td>\n",
       "      <td>GoldenEye (1995)</td>\n",
       "    </tr>\n",
       "    <tr>\n",
       "      <th>2</th>\n",
       "      <td>3</td>\n",
       "      <td>Four Rooms (1995)</td>\n",
       "    </tr>\n",
       "    <tr>\n",
       "      <th>3</th>\n",
       "      <td>4</td>\n",
       "      <td>Get Shorty (1995)</td>\n",
       "    </tr>\n",
       "    <tr>\n",
       "      <th>4</th>\n",
       "      <td>5</td>\n",
       "      <td>Copycat (1995)</td>\n",
       "    </tr>\n",
       "  </tbody>\n",
       "</table>\n",
       "</div>"
      ],
      "text/plain": [
       "   movie_id        movie title\n",
       "0         1   Toy Story (1995)\n",
       "1         2   GoldenEye (1995)\n",
       "2         3  Four Rooms (1995)\n",
       "3         4  Get Shorty (1995)\n",
       "4         5     Copycat (1995)"
      ]
     },
     "execution_count": 26,
     "metadata": {},
     "output_type": "execute_result"
    }
   ],
   "source": [
    "movie_data = movies[['movie_id', 'movie title']]\n",
    "movie_data.head()"
   ]
  },
  {
   "cell_type": "code",
   "execution_count": 27,
   "metadata": {},
   "outputs": [
    {
     "data": {
      "text/html": [
       "<div>\n",
       "<style scoped>\n",
       "    .dataframe tbody tr th:only-of-type {\n",
       "        vertical-align: middle;\n",
       "    }\n",
       "\n",
       "    .dataframe tbody tr th {\n",
       "        vertical-align: top;\n",
       "    }\n",
       "\n",
       "    .dataframe thead th {\n",
       "        text-align: right;\n",
       "    }\n",
       "</style>\n",
       "<table border=\"1\" class=\"dataframe\">\n",
       "  <thead>\n",
       "    <tr style=\"text-align: right;\">\n",
       "      <th></th>\n",
       "      <th>user_id</th>\n",
       "      <th>movie_id</th>\n",
       "      <th>ratings</th>\n",
       "      <th>time_stamp</th>\n",
       "      <th>movie title</th>\n",
       "    </tr>\n",
       "  </thead>\n",
       "  <tbody>\n",
       "    <tr>\n",
       "      <th>0</th>\n",
       "      <td>196</td>\n",
       "      <td>242</td>\n",
       "      <td>3</td>\n",
       "      <td>1997-12-04 15:55:49</td>\n",
       "      <td>Kolya (1996)</td>\n",
       "    </tr>\n",
       "    <tr>\n",
       "      <th>1</th>\n",
       "      <td>63</td>\n",
       "      <td>242</td>\n",
       "      <td>3</td>\n",
       "      <td>1997-10-01 23:06:30</td>\n",
       "      <td>Kolya (1996)</td>\n",
       "    </tr>\n",
       "    <tr>\n",
       "      <th>2</th>\n",
       "      <td>226</td>\n",
       "      <td>242</td>\n",
       "      <td>5</td>\n",
       "      <td>1998-01-04 04:37:51</td>\n",
       "      <td>Kolya (1996)</td>\n",
       "    </tr>\n",
       "    <tr>\n",
       "      <th>3</th>\n",
       "      <td>154</td>\n",
       "      <td>242</td>\n",
       "      <td>3</td>\n",
       "      <td>1997-11-10 05:03:55</td>\n",
       "      <td>Kolya (1996)</td>\n",
       "    </tr>\n",
       "    <tr>\n",
       "      <th>4</th>\n",
       "      <td>306</td>\n",
       "      <td>242</td>\n",
       "      <td>5</td>\n",
       "      <td>1997-10-10 17:16:33</td>\n",
       "      <td>Kolya (1996)</td>\n",
       "    </tr>\n",
       "  </tbody>\n",
       "</table>\n",
       "</div>"
      ],
      "text/plain": [
       "   user_id  movie_id  ratings          time_stamp   movie title\n",
       "0      196       242        3 1997-12-04 15:55:49  Kolya (1996)\n",
       "1       63       242        3 1997-10-01 23:06:30  Kolya (1996)\n",
       "2      226       242        5 1998-01-04 04:37:51  Kolya (1996)\n",
       "3      154       242        3 1997-11-10 05:03:55  Kolya (1996)\n",
       "4      306       242        5 1997-10-10 17:16:33  Kolya (1996)"
      ]
     },
     "execution_count": 27,
     "metadata": {},
     "output_type": "execute_result"
    }
   ],
   "source": [
    "merged_data = pd.merge(data, movie_data, how='inner', on='movie_id')\n",
    "merged_data.head()"
   ]
  },
  {
   "cell_type": "code",
   "execution_count": 71,
   "metadata": {},
   "outputs": [
    {
     "data": {
      "text/html": [
       "<div>\n",
       "<style scoped>\n",
       "    .dataframe tbody tr th:only-of-type {\n",
       "        vertical-align: middle;\n",
       "    }\n",
       "\n",
       "    .dataframe tbody tr th {\n",
       "        vertical-align: top;\n",
       "    }\n",
       "\n",
       "    .dataframe thead th {\n",
       "        text-align: right;\n",
       "    }\n",
       "</style>\n",
       "<table border=\"1\" class=\"dataframe\">\n",
       "  <thead>\n",
       "    <tr style=\"text-align: right;\">\n",
       "      <th></th>\n",
       "      <th>user_id</th>\n",
       "      <th>movie_id</th>\n",
       "      <th>ratings</th>\n",
       "      <th>time_stamp</th>\n",
       "      <th>movie title</th>\n",
       "    </tr>\n",
       "  </thead>\n",
       "  <tbody>\n",
       "    <tr>\n",
       "      <th>43606</th>\n",
       "      <td>1</td>\n",
       "      <td>12</td>\n",
       "      <td>5</td>\n",
       "      <td>1997-11-03 07:42:40</td>\n",
       "      <td>Usual Suspects, The (1995)</td>\n",
       "    </tr>\n",
       "    <tr>\n",
       "      <th>79998</th>\n",
       "      <td>1</td>\n",
       "      <td>254</td>\n",
       "      <td>1</td>\n",
       "      <td>1997-11-03 07:16:32</td>\n",
       "      <td>Batman &amp; Robin (1997)</td>\n",
       "    </tr>\n",
       "    <tr>\n",
       "      <th>35906</th>\n",
       "      <td>1</td>\n",
       "      <td>189</td>\n",
       "      <td>3</td>\n",
       "      <td>1998-03-01 06:15:28</td>\n",
       "      <td>Grand Day Out, A (1992)</td>\n",
       "    </tr>\n",
       "    <tr>\n",
       "      <th>69127</th>\n",
       "      <td>1</td>\n",
       "      <td>87</td>\n",
       "      <td>5</td>\n",
       "      <td>1997-11-03 07:52:21</td>\n",
       "      <td>Searching for Bobby Fischer (1993)</td>\n",
       "    </tr>\n",
       "    <tr>\n",
       "      <th>51383</th>\n",
       "      <td>1</td>\n",
       "      <td>187</td>\n",
       "      <td>4</td>\n",
       "      <td>1997-09-22 22:01:18</td>\n",
       "      <td>Godfather: Part II, The (1974)</td>\n",
       "    </tr>\n",
       "    <tr>\n",
       "      <th>...</th>\n",
       "      <td>...</td>\n",
       "      <td>...</td>\n",
       "      <td>...</td>\n",
       "      <td>...</td>\n",
       "      <td>...</td>\n",
       "    </tr>\n",
       "    <tr>\n",
       "      <th>53109</th>\n",
       "      <td>943</td>\n",
       "      <td>168</td>\n",
       "      <td>2</td>\n",
       "      <td>1998-02-28 04:08:17</td>\n",
       "      <td>Monty Python and the Holy Grail (1974)</td>\n",
       "    </tr>\n",
       "    <tr>\n",
       "      <th>62194</th>\n",
       "      <td>943</td>\n",
       "      <td>28</td>\n",
       "      <td>4</td>\n",
       "      <td>1997-09-28 01:26:18</td>\n",
       "      <td>Apollo 13 (1995)</td>\n",
       "    </tr>\n",
       "    <tr>\n",
       "      <th>55359</th>\n",
       "      <td>943</td>\n",
       "      <td>941</td>\n",
       "      <td>1</td>\n",
       "      <td>1998-02-28 04:22:05</td>\n",
       "      <td>With Honors (1994)</td>\n",
       "    </tr>\n",
       "    <tr>\n",
       "      <th>44928</th>\n",
       "      <td>943</td>\n",
       "      <td>186</td>\n",
       "      <td>5</td>\n",
       "      <td>1998-02-28 04:17:58</td>\n",
       "      <td>Blues Brothers, The (1980)</td>\n",
       "    </tr>\n",
       "    <tr>\n",
       "      <th>61115</th>\n",
       "      <td>943</td>\n",
       "      <td>449</td>\n",
       "      <td>1</td>\n",
       "      <td>1998-02-28 19:12:38</td>\n",
       "      <td>Star Trek: The Motion Picture (1979)</td>\n",
       "    </tr>\n",
       "  </tbody>\n",
       "</table>\n",
       "<p>100000 rows × 5 columns</p>\n",
       "</div>"
      ],
      "text/plain": [
       "       user_id  movie_id  ratings          time_stamp  \\\n",
       "43606        1        12        5 1997-11-03 07:42:40   \n",
       "79998        1       254        1 1997-11-03 07:16:32   \n",
       "35906        1       189        3 1998-03-01 06:15:28   \n",
       "69127        1        87        5 1997-11-03 07:52:21   \n",
       "51383        1       187        4 1997-09-22 22:01:18   \n",
       "...        ...       ...      ...                 ...   \n",
       "53109      943       168        2 1998-02-28 04:08:17   \n",
       "62194      943        28        4 1997-09-28 01:26:18   \n",
       "55359      943       941        1 1998-02-28 04:22:05   \n",
       "44928      943       186        5 1998-02-28 04:17:58   \n",
       "61115      943       449        1 1998-02-28 19:12:38   \n",
       "\n",
       "                                  movie title  \n",
       "43606              Usual Suspects, The (1995)  \n",
       "79998                   Batman & Robin (1997)  \n",
       "35906                 Grand Day Out, A (1992)  \n",
       "69127      Searching for Bobby Fischer (1993)  \n",
       "51383          Godfather: Part II, The (1974)  \n",
       "...                                       ...  \n",
       "53109  Monty Python and the Holy Grail (1974)  \n",
       "62194                        Apollo 13 (1995)  \n",
       "55359                      With Honors (1994)  \n",
       "44928              Blues Brothers, The (1980)  \n",
       "61115    Star Trek: The Motion Picture (1979)  \n",
       "\n",
       "[100000 rows x 5 columns]"
      ]
     },
     "execution_count": 71,
     "metadata": {},
     "output_type": "execute_result"
    }
   ],
   "source": [
    "merged_data.sort_values(by=['user_id'])"
   ]
  },
  {
   "cell_type": "markdown",
   "metadata": {},
   "source": [
    "# Refined dataset with unique user id, movie name combination and their ratings"
   ]
  },
  {
   "cell_type": "code",
   "execution_count": 56,
   "metadata": {},
   "outputs": [
    {
     "data": {
      "text/html": [
       "<div>\n",
       "<style scoped>\n",
       "    .dataframe tbody tr th:only-of-type {\n",
       "        vertical-align: middle;\n",
       "    }\n",
       "\n",
       "    .dataframe tbody tr th {\n",
       "        vertical-align: top;\n",
       "    }\n",
       "\n",
       "    .dataframe thead th {\n",
       "        text-align: right;\n",
       "    }\n",
       "</style>\n",
       "<table border=\"1\" class=\"dataframe\">\n",
       "  <thead>\n",
       "    <tr style=\"text-align: right;\">\n",
       "      <th></th>\n",
       "      <th>user_id</th>\n",
       "      <th>movie title</th>\n",
       "      <th>ratings</th>\n",
       "    </tr>\n",
       "  </thead>\n",
       "  <tbody>\n",
       "    <tr>\n",
       "      <th>0</th>\n",
       "      <td>1</td>\n",
       "      <td>101 Dalmatians (1996)</td>\n",
       "      <td>2.0</td>\n",
       "    </tr>\n",
       "    <tr>\n",
       "      <th>1</th>\n",
       "      <td>1</td>\n",
       "      <td>12 Angry Men (1957)</td>\n",
       "      <td>5.0</td>\n",
       "    </tr>\n",
       "    <tr>\n",
       "      <th>2</th>\n",
       "      <td>1</td>\n",
       "      <td>20,000 Leagues Under the Sea (1954)</td>\n",
       "      <td>3.0</td>\n",
       "    </tr>\n",
       "    <tr>\n",
       "      <th>3</th>\n",
       "      <td>1</td>\n",
       "      <td>2001: A Space Odyssey (1968)</td>\n",
       "      <td>4.0</td>\n",
       "    </tr>\n",
       "    <tr>\n",
       "      <th>4</th>\n",
       "      <td>1</td>\n",
       "      <td>Abyss, The (1989)</td>\n",
       "      <td>3.0</td>\n",
       "    </tr>\n",
       "  </tbody>\n",
       "</table>\n",
       "</div>"
      ],
      "text/plain": [
       "   user_id                          movie title  ratings\n",
       "0        1                101 Dalmatians (1996)      2.0\n",
       "1        1                  12 Angry Men (1957)      5.0\n",
       "2        1  20,000 Leagues Under the Sea (1954)      3.0\n",
       "3        1         2001: A Space Odyssey (1968)      4.0\n",
       "4        1                    Abyss, The (1989)      3.0"
      ]
     },
     "execution_count": 56,
     "metadata": {},
     "output_type": "execute_result"
    }
   ],
   "source": [
    "refined_dataset = merged_data.groupby(by=['user_id','movie title'], as_index=False).agg({\"ratings\":\"mean\"})\n",
    "\n",
    "refined_dataset.head()"
   ]
  },
  {
   "cell_type": "code",
   "execution_count": 59,
   "metadata": {},
   "outputs": [
    {
     "data": {
      "text/html": [
       "<div>\n",
       "<style scoped>\n",
       "    .dataframe tbody tr th:only-of-type {\n",
       "        vertical-align: middle;\n",
       "    }\n",
       "\n",
       "    .dataframe tbody tr th {\n",
       "        vertical-align: top;\n",
       "    }\n",
       "\n",
       "    .dataframe thead th {\n",
       "        text-align: right;\n",
       "    }\n",
       "</style>\n",
       "<table border=\"1\" class=\"dataframe\">\n",
       "  <thead>\n",
       "    <tr style=\"text-align: right;\">\n",
       "      <th></th>\n",
       "      <th>user_id</th>\n",
       "      <th>movie title</th>\n",
       "      <th>ratings</th>\n",
       "      <th>user</th>\n",
       "      <th>movie</th>\n",
       "    </tr>\n",
       "  </thead>\n",
       "  <tbody>\n",
       "    <tr>\n",
       "      <th>0</th>\n",
       "      <td>1</td>\n",
       "      <td>101 Dalmatians (1996)</td>\n",
       "      <td>2.0</td>\n",
       "      <td>0</td>\n",
       "      <td>2</td>\n",
       "    </tr>\n",
       "    <tr>\n",
       "      <th>1</th>\n",
       "      <td>1</td>\n",
       "      <td>12 Angry Men (1957)</td>\n",
       "      <td>5.0</td>\n",
       "      <td>0</td>\n",
       "      <td>3</td>\n",
       "    </tr>\n",
       "    <tr>\n",
       "      <th>2</th>\n",
       "      <td>1</td>\n",
       "      <td>20,000 Leagues Under the Sea (1954)</td>\n",
       "      <td>3.0</td>\n",
       "      <td>0</td>\n",
       "      <td>6</td>\n",
       "    </tr>\n",
       "    <tr>\n",
       "      <th>3</th>\n",
       "      <td>1</td>\n",
       "      <td>2001: A Space Odyssey (1968)</td>\n",
       "      <td>4.0</td>\n",
       "      <td>0</td>\n",
       "      <td>7</td>\n",
       "    </tr>\n",
       "    <tr>\n",
       "      <th>4</th>\n",
       "      <td>1</td>\n",
       "      <td>Abyss, The (1989)</td>\n",
       "      <td>3.0</td>\n",
       "      <td>0</td>\n",
       "      <td>16</td>\n",
       "    </tr>\n",
       "  </tbody>\n",
       "</table>\n",
       "</div>"
      ],
      "text/plain": [
       "   user_id                          movie title  ratings  user  movie\n",
       "0        1                101 Dalmatians (1996)      2.0     0      2\n",
       "1        1                  12 Angry Men (1957)      5.0     0      3\n",
       "2        1  20,000 Leagues Under the Sea (1954)      3.0     0      6\n",
       "3        1         2001: A Space Odyssey (1968)      4.0     0      7\n",
       "4        1                    Abyss, The (1989)      3.0     0     16"
      ]
     },
     "execution_count": 59,
     "metadata": {},
     "output_type": "execute_result"
    }
   ],
   "source": [
    "user_enc = LabelEncoder()\n",
    "refined_dataset['user'] = user_enc.fit_transform(refined_dataset['user_id'].values)\n",
    "\n",
    "item_enc = LabelEncoder()\n",
    "refined_dataset['movie'] = item_enc.fit_transform(refined_dataset['movie title'].values)\n",
    "\n",
    "refined_dataset.head()"
   ]
  },
  {
   "cell_type": "code",
   "execution_count": 63,
   "metadata": {},
   "outputs": [
    {
     "data": {
      "text/plain": [
       "1.0"
      ]
     },
     "execution_count": 63,
     "metadata": {},
     "output_type": "execute_result"
    }
   ],
   "source": [
    "min(refined_dataset['ratings'])"
   ]
  },
  {
   "cell_type": "code",
   "execution_count": 64,
   "metadata": {},
   "outputs": [
    {
     "data": {
      "text/plain": [
       "5.0"
      ]
     },
     "execution_count": 64,
     "metadata": {},
     "output_type": "execute_result"
    }
   ],
   "source": [
    "max(refined_dataset['ratings'])"
   ]
  },
  {
   "cell_type": "code",
   "execution_count": 65,
   "metadata": {},
   "outputs": [
    {
     "data": {
      "text/plain": [
       "943"
      ]
     },
     "execution_count": 65,
     "metadata": {},
     "output_type": "execute_result"
    }
   ],
   "source": [
    "len(refined_dataset['user_id'].unique())"
   ]
  },
  {
   "cell_type": "code",
   "execution_count": 66,
   "metadata": {},
   "outputs": [
    {
     "data": {
      "text/plain": [
       "1664"
      ]
     },
     "execution_count": 66,
     "metadata": {},
     "output_type": "execute_result"
    }
   ],
   "source": [
    "len(refined_dataset['movie title'].unique())"
   ]
  },
  {
   "cell_type": "markdown",
   "metadata": {},
   "source": [
    "# Splitting the data into training and testing"
   ]
  },
  {
   "cell_type": "code",
   "execution_count": 69,
   "metadata": {},
   "outputs": [
    {
     "data": {
      "text/plain": [
       "((89723, 2), (9970, 2), (89723,), (9970,))"
      ]
     },
     "execution_count": 69,
     "metadata": {},
     "output_type": "execute_result"
    }
   ],
   "source": [
    "X = refined_dataset[['user', 'movie']].values\n",
    "y = refined_dataset['ratings'].values\n",
    "X_train, X_test, y_train, y_test = train_test_split(X, y, test_size=0.1, random_state=50)\n",
    "X_train.shape, X_test.shape, y_train.shape, y_test.shape"
   ]
  },
  {
   "cell_type": "markdown",
   "metadata": {},
   "source": [
    "Columns in the input array are split into two separate arrays. As Keras considers them as two distinct inputs, each input needs to be fed in as its own array."
   ]
  },
  {
   "cell_type": "code",
   "execution_count": 80,
   "metadata": {},
   "outputs": [],
   "source": [
    "X_train_array = [X_train[:, 0], X_train[:, 1]]\n",
    "X_test_array = [X_test[:, 0], X_test[:, 1]]"
   ]
  },
  {
   "cell_type": "code",
   "execution_count": 81,
   "metadata": {},
   "outputs": [
    {
     "data": {
      "text/plain": [
       "(array([[ 180, 1152],\n",
       "        [ 487,  389],\n",
       "        [ 177,  302],\n",
       "        ...,\n",
       "        [ 431, 1588],\n",
       "        [ 232,  399],\n",
       "        [ 138,  612]]),\n",
       " [array([180, 487, 177, ..., 431, 232, 138]),\n",
       "  array([1152,  389,  302, ..., 1588,  399,  612])])"
      ]
     },
     "execution_count": 81,
     "metadata": {},
     "output_type": "execute_result"
    }
   ],
   "source": [
    "X_train, X_train_array"
   ]
  },
  {
   "cell_type": "markdown",
   "metadata": {},
   "source": [
    "# Normalizing the labels"
   ]
  },
  {
   "cell_type": "code",
   "execution_count": 82,
   "metadata": {},
   "outputs": [],
   "source": [
    "y_train = (y_train - min(refined_dataset['ratings']))/(max(refined_dataset['ratings']) - min(refined_dataset['ratings']))\n",
    "y_test = (y_test - min(refined_dataset['ratings']))/(max(refined_dataset['ratings']) - min(refined_dataset['ratings']))"
   ]
  },
  {
   "cell_type": "code",
   "execution_count": 84,
   "metadata": {},
   "outputs": [
    {
     "name": "stdout",
     "output_type": "stream",
     "text": [
      "Model: \"functional_3\"\n",
      "__________________________________________________________________________________________________\n",
      "Layer (type)                    Output Shape         Param #     Connected to                     \n",
      "==================================================================================================\n",
      "input_3 (InputLayer)            [(None, 1)]          0                                            \n",
      "__________________________________________________________________________________________________\n",
      "input_4 (InputLayer)            [(None, 1)]          0                                            \n",
      "__________________________________________________________________________________________________\n",
      "embedding_2 (Embedding)         (None, 1, 150)       141450      input_3[0][0]                    \n",
      "__________________________________________________________________________________________________\n",
      "embedding_3 (Embedding)         (None, 1, 150)       249600      input_4[0][0]                    \n",
      "__________________________________________________________________________________________________\n",
      "reshape_2 (Reshape)             (None, 150)          0           embedding_2[0][0]                \n",
      "__________________________________________________________________________________________________\n",
      "reshape_3 (Reshape)             (None, 150)          0           embedding_3[0][0]                \n",
      "__________________________________________________________________________________________________\n",
      "concatenate_1 (Concatenate)     (None, 300)          0           reshape_2[0][0]                  \n",
      "                                                                 reshape_3[0][0]                  \n",
      "__________________________________________________________________________________________________\n",
      "dropout_3 (Dropout)             (None, 300)          0           concatenate_1[0][0]              \n",
      "__________________________________________________________________________________________________\n",
      "dense_3 (Dense)                 (None, 32)           9632        dropout_3[0][0]                  \n",
      "__________________________________________________________________________________________________\n",
      "activation_3 (Activation)       (None, 32)           0           dense_3[0][0]                    \n",
      "__________________________________________________________________________________________________\n",
      "dropout_4 (Dropout)             (None, 32)           0           activation_3[0][0]               \n",
      "__________________________________________________________________________________________________\n",
      "dense_4 (Dense)                 (None, 16)           528         dropout_4[0][0]                  \n",
      "__________________________________________________________________________________________________\n",
      "activation_4 (Activation)       (None, 16)           0           dense_4[0][0]                    \n",
      "__________________________________________________________________________________________________\n",
      "dropout_5 (Dropout)             (None, 16)           0           activation_4[0][0]               \n",
      "__________________________________________________________________________________________________\n",
      "dense_5 (Dense)                 (None, 9)            153         dropout_5[0][0]                  \n",
      "__________________________________________________________________________________________________\n",
      "activation_5 (Activation)       (None, 9)            0           dense_5[0][0]                    \n",
      "==================================================================================================\n",
      "Total params: 401,363\n",
      "Trainable params: 401,363\n",
      "Non-trainable params: 0\n",
      "__________________________________________________________________________________________________\n"
     ]
    }
   ],
   "source": [
    "n_factors = 150\n",
    "n_users = len(refined_dataset['user_id'].unique())\n",
    "n_movies = len(refined_dataset['movie title'].unique())\n",
    "\n",
    "## Initializing a input layer for users\n",
    "user = tf.keras.layers.Input(shape = (1,))\n",
    "\n",
    "## Embedding layer for n_factors of users\n",
    "u = keras.layers.embeddings.Embedding(n_users, n_factors, embeddings_initializer = 'he_normal', embeddings_regularizer = tf.keras.regularizers.l2(1e-6))(user)\n",
    "u = tf.keras.layers.Reshape((n_factors,))(u)\n",
    "\n",
    "## Initializing a input layer for movies\n",
    "movie = tf.keras.layers.Input(shape = (1,))\n",
    "\n",
    "## Embedding layer for n_factors of movies\n",
    "m = keras.layers.embeddings.Embedding(n_movies, n_factors, embeddings_initializer = 'he_normal', embeddings_regularizer=tf.keras.regularizers.l2(1e-6))(movie)\n",
    "m = tf.keras.layers.Reshape((n_factors,))(m)\n",
    "\n",
    "## stacking up both user and movie embeddings\n",
    "x = tf.keras.layers.Concatenate()([u,m])\n",
    "x = tf.keras.layers.Dropout(0.05)(x)\n",
    "\n",
    "## Adding a Dense layer to the architecture\n",
    "x = tf.keras.layers.Dense(32, kernel_initializer='he_normal')(x)\n",
    "x = tf.keras.layers.Activation(activation='relu')(x)\n",
    "x = tf.keras.layers.Dropout(0.05)(x)\n",
    "\n",
    "x = tf.keras.layers.Dense(16, kernel_initializer='he_normal')(x)\n",
    "x = tf.keras.layers.Activation(activation='relu')(x)\n",
    "x = tf.keras.layers.Dropout(0.05)(x)\n",
    "\n",
    "## Adding an Output layer with Sigmoid activation funtion which gives output between 0 and 1\n",
    "x = tf.keras.layers.Dense(9)(x)\n",
    "x = tf.keras.layers.Activation(activation='softmax')(x)\n",
    "\n",
    "## Defining the model\n",
    "model = tf.keras.models.Model(inputs=[user,movie], outputs=x)\n",
    "\n",
    "model.compile(optimizer='sgd', loss=tf.keras.losses.SparseCategoricalCrossentropy(), metrics=['accuracy'])\n",
    "\n",
    "model.summary()"
   ]
  },
  {
   "cell_type": "code",
   "execution_count": 85,
   "metadata": {
    "scrolled": true
   },
   "outputs": [
    {
     "name": "stdout",
     "output_type": "stream",
     "text": [
      "Epoch 1/50\n"
     ]
    },
    {
     "name": "stderr",
     "output_type": "stream",
     "text": [
      "/home/sanghvi/anaconda3/lib/python3.8/site-packages/tensorflow/python/framework/indexed_slices.py:432: UserWarning: Converting sparse IndexedSlices to a dense Tensor of unknown shape. This may consume a large amount of memory.\n",
      "  warnings.warn(\n"
     ]
    },
    {
     "name": "stdout",
     "output_type": "stream",
     "text": [
      "701/701 [==============================] - 2s 3ms/step - loss: 0.7361 - accuracy: 0.0610 - val_loss: 0.5227 - val_accuracy: 0.0617\n",
      "Epoch 2/50\n",
      "701/701 [==============================] - 2s 3ms/step - loss: 0.5338 - accuracy: 0.0611 - val_loss: 0.5136 - val_accuracy: 0.0617\n",
      "Epoch 3/50\n",
      "701/701 [==============================] - 2s 3ms/step - loss: 0.5265 - accuracy: 0.0610 - val_loss: 0.5113 - val_accuracy: 0.0617\n",
      "Epoch 4/50\n",
      "701/701 [==============================] - 2s 3ms/step - loss: 0.5230 - accuracy: 0.0609 - val_loss: 0.5100 - val_accuracy: 0.0617\n",
      "Epoch 5/50\n",
      "701/701 [==============================] - 2s 3ms/step - loss: 0.5208 - accuracy: 0.0609 - val_loss: 0.5088 - val_accuracy: 0.0617\n",
      "Epoch 6/50\n",
      "701/701 [==============================] - 2s 3ms/step - loss: 0.5188 - accuracy: 0.0609 - val_loss: 0.5076 - val_accuracy: 0.0617\n",
      "Epoch 7/50\n",
      "701/701 [==============================] - 2s 3ms/step - loss: 0.5174 - accuracy: 0.0609 - val_loss: 0.5067 - val_accuracy: 0.0617\n",
      "Epoch 8/50\n",
      "701/701 [==============================] - 2s 3ms/step - loss: 0.5160 - accuracy: 0.0609 - val_loss: 0.5057 - val_accuracy: 0.0617\n",
      "Epoch 9/50\n",
      "701/701 [==============================] - 2s 3ms/step - loss: 0.5143 - accuracy: 0.0609 - val_loss: 0.5035 - val_accuracy: 0.0617\n",
      "Epoch 10/50\n",
      "701/701 [==============================] - 2s 3ms/step - loss: 0.5120 - accuracy: 0.0609 - val_loss: 0.5012 - val_accuracy: 0.0617\n",
      "Epoch 11/50\n",
      "701/701 [==============================] - 2s 3ms/step - loss: 0.5097 - accuracy: 0.0609 - val_loss: 0.4992 - val_accuracy: 0.0617\n",
      "Epoch 12/50\n",
      "701/701 [==============================] - 2s 3ms/step - loss: 0.5066 - accuracy: 0.0609 - val_loss: 0.4949 - val_accuracy: 0.0617\n",
      "Epoch 13/50\n",
      "701/701 [==============================] - 2s 3ms/step - loss: 0.5024 - accuracy: 0.0609 - val_loss: 0.4904 - val_accuracy: 0.0617\n",
      "Epoch 14/50\n",
      "701/701 [==============================] - 2s 3ms/step - loss: 0.4974 - accuracy: 0.0609 - val_loss: 0.4849 - val_accuracy: 0.0617\n",
      "Epoch 15/50\n",
      "701/701 [==============================] - 2s 3ms/step - loss: 0.4908 - accuracy: 0.0609 - val_loss: 0.4787 - val_accuracy: 0.0617\n",
      "Epoch 16/50\n",
      "701/701 [==============================] - 2s 3ms/step - loss: 0.4836 - accuracy: 0.0610 - val_loss: 0.4708 - val_accuracy: 0.0617\n",
      "Epoch 17/50\n",
      "701/701 [==============================] - 2s 3ms/step - loss: 0.4763 - accuracy: 0.0620 - val_loss: 0.4637 - val_accuracy: 0.0618\n",
      "Epoch 18/50\n",
      "701/701 [==============================] - 2s 3ms/step - loss: 0.4693 - accuracy: 0.0662 - val_loss: 0.4573 - val_accuracy: 0.0718\n",
      "Epoch 19/50\n",
      "701/701 [==============================] - 2s 3ms/step - loss: 0.4626 - accuracy: 0.0741 - val_loss: 0.4513 - val_accuracy: 0.0772\n",
      "Epoch 20/50\n",
      "701/701 [==============================] - 2s 3ms/step - loss: 0.4568 - accuracy: 0.0803 - val_loss: 0.4464 - val_accuracy: 0.0866\n",
      "Epoch 21/50\n",
      "701/701 [==============================] - 2s 3ms/step - loss: 0.4509 - accuracy: 0.0875 - val_loss: 0.4420 - val_accuracy: 0.0909\n",
      "Epoch 22/50\n",
      "701/701 [==============================] - 2s 3ms/step - loss: 0.4467 - accuracy: 0.0926 - val_loss: 0.4386 - val_accuracy: 0.0985\n",
      "Epoch 23/50\n",
      "701/701 [==============================] - 2s 3ms/step - loss: 0.4427 - accuracy: 0.0975 - val_loss: 0.4353 - val_accuracy: 0.0995\n",
      "Epoch 24/50\n",
      "701/701 [==============================] - 2s 3ms/step - loss: 0.4395 - accuracy: 0.1005 - val_loss: 0.4331 - val_accuracy: 0.1070\n",
      "Epoch 25/50\n",
      "701/701 [==============================] - 2s 3ms/step - loss: 0.4361 - accuracy: 0.1037 - val_loss: 0.4311 - val_accuracy: 0.0988\n",
      "Epoch 26/50\n",
      "701/701 [==============================] - 2s 3ms/step - loss: 0.4329 - accuracy: 0.1074 - val_loss: 0.4287 - val_accuracy: 0.1086\n",
      "Epoch 27/50\n",
      "701/701 [==============================] - 2s 3ms/step - loss: 0.4310 - accuracy: 0.1093 - val_loss: 0.4269 - val_accuracy: 0.1108\n",
      "Epoch 28/50\n",
      "701/701 [==============================] - 2s 3ms/step - loss: 0.4286 - accuracy: 0.1109 - val_loss: 0.4258 - val_accuracy: 0.1139\n",
      "Epoch 29/50\n",
      "701/701 [==============================] - 2s 3ms/step - loss: 0.4273 - accuracy: 0.1140 - val_loss: 0.4247 - val_accuracy: 0.1173\n",
      "Epoch 30/50\n",
      "701/701 [==============================] - 2s 3ms/step - loss: 0.4250 - accuracy: 0.1147 - val_loss: 0.4235 - val_accuracy: 0.1135\n",
      "Epoch 31/50\n",
      "701/701 [==============================] - 2s 3ms/step - loss: 0.4244 - accuracy: 0.1166 - val_loss: 0.4228 - val_accuracy: 0.1194\n",
      "Epoch 32/50\n",
      "701/701 [==============================] - 2s 3ms/step - loss: 0.4223 - accuracy: 0.1168 - val_loss: 0.4217 - val_accuracy: 0.1174\n",
      "Epoch 33/50\n",
      "701/701 [==============================] - 2s 3ms/step - loss: 0.4210 - accuracy: 0.1187 - val_loss: 0.4215 - val_accuracy: 0.1257\n",
      "Epoch 34/50\n",
      "701/701 [==============================] - 2s 3ms/step - loss: 0.4197 - accuracy: 0.1204 - val_loss: 0.4208 - val_accuracy: 0.1223\n",
      "Epoch 35/50\n",
      "701/701 [==============================] - 2s 3ms/step - loss: 0.4179 - accuracy: 0.1212 - val_loss: 0.4205 - val_accuracy: 0.1263\n",
      "Epoch 36/50\n",
      "701/701 [==============================] - 2s 2ms/step - loss: 0.4165 - accuracy: 0.1218 - val_loss: 0.4198 - val_accuracy: 0.1223\n",
      "Epoch 37/50\n",
      "701/701 [==============================] - 2s 2ms/step - loss: 0.4163 - accuracy: 0.1228 - val_loss: 0.4204 - val_accuracy: 0.1314\n",
      "Epoch 38/50\n",
      "701/701 [==============================] - 2s 2ms/step - loss: 0.4159 - accuracy: 0.1243 - val_loss: 0.4191 - val_accuracy: 0.1201\n",
      "Epoch 39/50\n",
      "701/701 [==============================] - 2s 2ms/step - loss: 0.4146 - accuracy: 0.1248 - val_loss: 0.4190 - val_accuracy: 0.1203\n",
      "Epoch 40/50\n",
      "701/701 [==============================] - 2s 2ms/step - loss: 0.4144 - accuracy: 0.1247 - val_loss: 0.4187 - val_accuracy: 0.1200\n",
      "Epoch 41/50\n",
      "701/701 [==============================] - 2s 2ms/step - loss: 0.4136 - accuracy: 0.1246 - val_loss: 0.4187 - val_accuracy: 0.1178\n",
      "Epoch 42/50\n",
      "701/701 [==============================] - 2s 2ms/step - loss: 0.4127 - accuracy: 0.1253 - val_loss: 0.4184 - val_accuracy: 0.1164\n",
      "Epoch 43/50\n",
      "701/701 [==============================] - 2s 2ms/step - loss: 0.4127 - accuracy: 0.1257 - val_loss: 0.4180 - val_accuracy: 0.1270\n",
      "Epoch 44/50\n",
      "701/701 [==============================] - 2s 2ms/step - loss: 0.4108 - accuracy: 0.1281 - val_loss: 0.4178 - val_accuracy: 0.1244\n",
      "Epoch 45/50\n",
      "701/701 [==============================] - 2s 2ms/step - loss: 0.4106 - accuracy: 0.1265 - val_loss: 0.4178 - val_accuracy: 0.1288\n",
      "Epoch 46/50\n",
      "701/701 [==============================] - 2s 2ms/step - loss: 0.4105 - accuracy: 0.1283 - val_loss: 0.4176 - val_accuracy: 0.1253\n",
      "Epoch 47/50\n",
      "701/701 [==============================] - 2s 3ms/step - loss: 0.4094 - accuracy: 0.1279 - val_loss: 0.4175 - val_accuracy: 0.1267\n",
      "Epoch 48/50\n",
      "701/701 [==============================] - 2s 3ms/step - loss: 0.4092 - accuracy: 0.1283 - val_loss: 0.4175 - val_accuracy: 0.1298\n",
      "Epoch 49/50\n",
      "701/701 [==============================] - 2s 3ms/step - loss: 0.4086 - accuracy: 0.1293 - val_loss: 0.4174 - val_accuracy: 0.1233\n",
      "Epoch 50/50\n",
      "683/701 [============================>.] - ETA: 0s - loss: 0.4082 - accuracy: 0.1288\n",
      "Epoch 00050: ReduceLROnPlateau reducing learning rate to 0.007499999832361937.\n",
      "701/701 [==============================] - 2s 2ms/step - loss: 0.4086 - accuracy: 0.1285 - val_loss: 0.4176 - val_accuracy: 0.1177\n"
     ]
    }
   ],
   "source": [
    "reduce_lr = tf.keras.callbacks.ReduceLROnPlateau(monitor='val_loss', factor=0.75, patience=3, min_lr=0.000001, verbose=1)\n",
    "\n",
    "history = model.fit(x = X_train_array, y = y_train, batch_size=128, epochs=50, verbose=1, validation_data=(X_test_array, y_test)\n",
    ",shuffle=True,callbacks=[reduce_lr])"
   ]
  },
  {
   "cell_type": "code",
   "execution_count": 86,
   "metadata": {},
   "outputs": [
    {
     "data": {
      "image/png": "[encoded data removed]",
      "text/plain": [
       "<Figure size 432x288 with 1 Axes>"
      ]
     },
     "metadata": {
      "needs_background": "light"
     },
     "output_type": "display_data"
    }
   ],
   "source": [
    "plt.plot(history.history[\"loss\"][5:])\n",
    "plt.plot(history.history[\"val_loss\"][5:])\n",
    "plt.title(\"model loss\")\n",
    "plt.ylabel(\"loss\")\n",
    "plt.xlabel(\"epoch\")\n",
    "plt.legend([\"train\", \"test\"], loc=\"upper left\")\n",
    "plt.show()"
   ]
  },
  {
   "cell_type": "markdown",
   "metadata": {},
   "source": [
    "# Movies for given User"
   ]
  },
  {
   "cell_type": "code",
   "execution_count": 92,
   "metadata": {},
   "outputs": [
    {
     "data": {
      "text/html": [
       "<div>\n",
       "<style scoped>\n",
       "    .dataframe tbody tr th:only-of-type {\n",
       "        vertical-align: middle;\n",
       "    }\n",
       "\n",
       "    .dataframe tbody tr th {\n",
       "        vertical-align: top;\n",
       "    }\n",
       "\n",
       "    .dataframe thead th {\n",
       "        text-align: right;\n",
       "    }\n",
       "</style>\n",
       "<table border=\"1\" class=\"dataframe\">\n",
       "  <thead>\n",
       "    <tr style=\"text-align: right;\">\n",
       "      <th></th>\n",
       "      <th>user_id</th>\n",
       "      <th>movie title</th>\n",
       "      <th>ratings</th>\n",
       "      <th>user</th>\n",
       "      <th>movie</th>\n",
       "    </tr>\n",
       "  </thead>\n",
       "  <tbody>\n",
       "    <tr>\n",
       "      <th>0</th>\n",
       "      <td>1</td>\n",
       "      <td>101 Dalmatians (1996)</td>\n",
       "      <td>2.0</td>\n",
       "      <td>0</td>\n",
       "      <td>2</td>\n",
       "    </tr>\n",
       "    <tr>\n",
       "      <th>1</th>\n",
       "      <td>1</td>\n",
       "      <td>12 Angry Men (1957)</td>\n",
       "      <td>5.0</td>\n",
       "      <td>0</td>\n",
       "      <td>3</td>\n",
       "    </tr>\n",
       "    <tr>\n",
       "      <th>2</th>\n",
       "      <td>1</td>\n",
       "      <td>20,000 Leagues Under the Sea (1954)</td>\n",
       "      <td>3.0</td>\n",
       "      <td>0</td>\n",
       "      <td>6</td>\n",
       "    </tr>\n",
       "    <tr>\n",
       "      <th>3</th>\n",
       "      <td>1</td>\n",
       "      <td>2001: A Space Odyssey (1968)</td>\n",
       "      <td>4.0</td>\n",
       "      <td>0</td>\n",
       "      <td>7</td>\n",
       "    </tr>\n",
       "    <tr>\n",
       "      <th>4</th>\n",
       "      <td>1</td>\n",
       "      <td>Abyss, The (1989)</td>\n",
       "      <td>3.0</td>\n",
       "      <td>0</td>\n",
       "      <td>16</td>\n",
       "    </tr>\n",
       "  </tbody>\n",
       "</table>\n",
       "</div>"
      ],
      "text/plain": [
       "   user_id                          movie title  ratings  user  movie\n",
       "0        1                101 Dalmatians (1996)      2.0     0      2\n",
       "1        1                  12 Angry Men (1957)      5.0     0      3\n",
       "2        1  20,000 Leagues Under the Sea (1954)      3.0     0      6\n",
       "3        1         2001: A Space Odyssey (1968)      4.0     0      7\n",
       "4        1                    Abyss, The (1989)      3.0     0     16"
      ]
     },
     "execution_count": 92,
     "metadata": {},
     "output_type": "execute_result"
    }
   ],
   "source": [
    "refined_dataset.head()"
   ]
  },
  {
   "cell_type": "markdown",
   "metadata": {},
   "source": [
    "\n",
    "\n",
    "How this DNN model works is, it takes two inputs, one of the input has user id's and the other has corresponding movie id's. Here DNN model tries to predict the ratings of the user - movie combination. So, we can input a specific user id (broadcasting it with the size of other input) and unseen movie id of the user and expect the model to give the ratings of the movies which would have been the ratings given by the user. Here, the ratings are already normalized and as we need the movies which interest the user more, ratings are not brought back to 0-5 scale.\n"
   ]
  },
  {
   "cell_type": "code",
   "execution_count": 93,
   "metadata": {},
   "outputs": [
    {
     "data": {
      "text/plain": [
       "[array([180, 487, 177, ..., 431, 232, 138]),\n",
       " array([1152,  389,  302, ..., 1588,  399,  612])]"
      ]
     },
     "execution_count": 93,
     "metadata": {},
     "output_type": "execute_result"
    }
   ],
   "source": [
    "X_train_array"
   ]
  },
  {
   "cell_type": "code",
   "execution_count": 119,
   "metadata": {},
   "outputs": [],
   "source": [
    "user_1 = refined_dataset[refined_dataset['user_id'] == 1]\n",
    "movies_user1 = user_1[\"movie\"]"
   ]
  },
  {
   "cell_type": "code",
   "execution_count": 121,
   "metadata": {},
   "outputs": [
    {
     "name": "stdout",
     "output_type": "stream",
     "text": [
      "IDs of movies seen by the user_id 1: \n",
      "[2, 3, 6, 7, 16, 17, 31, 35, 36, 41, 44, 46, 50, 76, 84, 87, 88, 93, 94, 104, 109, 113, 115, 127, 131, 133, 134, 143, 145, 152, 171, 175, 178, 184, 199, 212, 223, 225, 226, 229, 230, 232, 238, 240, 255, 262, 266, 293, 301, 303, 304, 313, 317, 321, 333, 341, 349, 355, 360, 367, 369, 373, 389, 390, 400, 406, 411, 412, 414, 415, 419, 420, 422, 426, 448, 450, 456, 471, 475, 480, 498, 502, 517, 519, 524, 528, 532, 551, 553, 554, 558, 559, 563, 567, 569, 570, 571, 572, 585, 587, 591, 598, 608, 612, 613, 616, 618, 621, 622, 623, 627, 628, 642, 643, 661, 672, 677, 690, 694, 696, 698, 700, 711, 715, 728, 737, 744, 747, 773, 776, 780, 789, 794, 797, 803, 811, 825, 827, 846, 850, 857, 867, 883, 884, 891, 896, 909, 916, 919, 940, 945, 950, 954, 956, 964, 976, 982, 986, 991, 996, 997, 1005, 1008, 1016, 1019, 1025, 1037, 1038, 1043, 1048, 1063, 1064, 1066, 1096, 1106, 1113, 1132, 1146, 1154, 1155, 1157, 1167, 1175, 1178, 1181, 1183, 1189, 1190, 1201, 1204, 1205, 1208, 1222, 1226, 1231, 1234, 1235, 1238, 1240, 1241, 1247, 1251, 1257, 1266, 1276, 1289, 1301, 1306, 1314, 1316, 1317, 1322, 1329, 1337, 1339, 1342, 1347, 1349, 1350, 1352, 1365, 1379, 1390, 1391, 1393, 1394, 1397, 1398, 1399, 1401, 1404, 1407, 1410, 1419, 1432, 1441, 1456, 1460, 1461, 1471, 1481, 1484, 1485, 1486, 1509, 1516, 1523, 1534, 1537, 1539, 1543, 1547, 1558, 1559, 1565, 1566, 1572, 1597, 1607, 1609, 1613, 1615, 1619, 1620, 1621, 1633, 1644, 1652, 1657, 1658, 1662]\n"
     ]
    }
   ],
   "source": [
    "seen_movies = list(movies_user1)\n",
    "print(\"IDs of movies seen by the user_id 1: \")\n",
    "print(seen_movies)"
   ]
  },
  {
   "cell_type": "code",
   "execution_count": 127,
   "metadata": {},
   "outputs": [
    {
     "name": "stdout",
     "output_type": "stream",
     "text": [
      "Total Movies seen by user_1 are 271\n"
     ]
    }
   ],
   "source": [
    "print(\"Total Movies seen by user_1 are {}\".format(len(seen_movies)))"
   ]
  },
  {
   "cell_type": "code",
   "execution_count": 128,
   "metadata": {},
   "outputs": [
    {
     "name": "stdout",
     "output_type": "stream",
     "text": [
      "There are total 1664 unique movies\n"
     ]
    }
   ],
   "source": [
    "print(\"There are total {} unique movies\".format(len(refined_dataset[\"movie\"].unique())))"
   ]
  },
  {
   "cell_type": "code",
   "execution_count": 129,
   "metadata": {},
   "outputs": [
    {
     "name": "stdout",
     "output_type": "stream",
     "text": [
      "[0, 1, 4, 5, 8, 9, 10, 11, 12, 13, 14, 15, 18, 19, 20, 21, 22, 23, 24, 25, 26, 27, 28, 29, 30, 32, 33, 34, 37, 38, 39, 40, 42, 43, 45, 47, 48, 49, 51, 52, 53, 54, 55, 56, 57, 58, 59, 60, 61, 62, 63, 64, 65, 66, 67, 68, 69, 70, 71, 72, 73, 74, 75, 77, 78, 79, 80, 81, 82, 83, 85, 86, 89, 90, 91, 92, 95, 96, 97, 98, 99, 100, 101, 102, 103, 105, 106, 107, 108, 110, 111, 112, 114, 116, 117, 118, 119, 120, 121, 122, 123, 124, 125, 126, 128, 129, 130, 132, 135, 136, 137, 138, 139, 140, 141, 142, 144, 146, 147, 148, 149, 150, 151, 153, 154, 155, 156, 157, 158, 159, 160, 161, 162, 163, 164, 165, 166, 167, 168, 169, 170, 172, 173, 174, 176, 177, 179, 180, 181, 182, 183, 185, 186, 187, 188, 189, 190, 191, 192, 193, 194, 195, 196, 197, 198, 200, 201, 202, 203, 204, 205, 206, 207, 208, 209, 210, 211, 213, 214, 215, 216, 217, 218, 219, 220, 221, 222, 224, 227, 228, 231, 233, 234, 235, 236, 237, 239, 241, 242, 243, 244, 245, 246, 247, 248, 249, 250, 251, 252, 253, 254, 256, 257, 258, 259, 260, 261, 263, 264, 265, 267, 268, 269, 270, 271, 272, 273, 274, 275, 276, 277, 278, 279, 280, 281, 282, 283, 284, 285, 286, 287, 288, 289, 290, 291, 292, 294, 295, 296, 297, 298, 299, 300, 302, 305, 306, 307, 308, 309, 310, 311, 312, 314, 315, 316, 318, 319, 320, 322, 323, 324, 325, 326, 327, 328, 329, 330, 331, 332, 334, 335, 336, 337, 338, 339, 340, 342, 343, 344, 345, 346, 347, 348, 350, 351, 352, 353, 354, 356, 357, 358, 359, 361, 362, 363, 364, 365, 366, 368, 370, 371, 372, 374, 375, 376, 377, 378, 379, 380, 381, 382, 383, 384, 385, 386, 387, 388, 391, 392, 393, 394, 395, 396, 397, 398, 399, 401, 402, 403, 404, 405, 407, 408, 409, 410, 413, 416, 417, 418, 421, 423, 424, 425, 427, 428, 429, 430, 431, 432, 433, 434, 435, 436, 437, 438, 439, 440, 441, 442, 443, 444, 445, 446, 447, 449, 451, 452, 453, 454, 455, 457, 458, 459, 460, 461, 462, 463, 464, 465, 466, 467, 468, 469, 470, 472, 473, 474, 476, 477, 478, 479, 481, 482, 483, 484, 485, 486, 487, 488, 489, 490, 491, 492, 493, 494, 495, 496, 497, 499, 500, 501, 503, 504, 505, 506, 507, 508, 509, 510, 511, 512, 513, 514, 515, 516, 518, 520, 521, 522, 523, 525, 526, 527, 529, 530, 531, 533, 534, 535, 536, 537, 538, 539, 540, 541, 542, 543, 544, 545, 546, 547, 548, 549, 550, 552, 555, 556, 557, 560, 561, 562, 564, 565, 566, 568, 573, 574, 575, 576, 577, 578, 579, 580, 581, 582, 583, 584, 586, 588, 589, 590, 592, 593, 594, 595, 596, 597, 599, 600, 601, 602, 603, 604, 605, 606, 607, 609, 610, 611, 614, 615, 617, 619, 620, 624, 625, 626, 629, 630, 631, 632, 633, 634, 635, 636, 637, 638, 639, 640, 641, 644, 645, 646, 647, 648, 649, 650, 651, 652, 653, 654, 655, 656, 657, 658, 659, 660, 662, 663, 664, 665, 666, 667, 668, 669, 670, 671, 673, 674, 675, 676, 678, 679, 680, 681, 682, 683, 684, 685, 686, 687, 688, 689, 691, 692, 693, 695, 697, 699, 701, 702, 703, 704, 705, 706, 707, 708, 709, 710, 712, 713, 714, 716, 717, 718, 719, 720, 721, 722, 723, 724, 725, 726, 727, 729, 730, 731, 732, 733, 734, 735, 736, 738, 739, 740, 741, 742, 743, 745, 746, 748, 749, 750, 751, 752, 753, 754, 755, 756, 757, 758, 759, 760, 761, 762, 763, 764, 765, 766, 767, 768, 769, 770, 771, 772, 774, 775, 777, 778, 779, 781, 782, 783, 784, 785, 786, 787, 788, 790, 791, 792, 793, 795, 796, 798, 799, 800, 801, 802, 804, 805, 806, 807, 808, 809, 810, 812, 813, 814, 815, 816, 817, 818, 819, 820, 821, 822, 823, 824, 826, 828, 829, 830, 831, 832, 833, 834, 835, 836, 837, 838, 839, 840, 841, 842, 843, 844, 845, 847, 848, 849, 851, 852, 853, 854, 855, 856, 858, 859, 860, 861, 862, 863, 864, 865, 866, 868, 869, 870, 871, 872, 873, 874, 875, 876, 877, 878, 879, 880, 881, 882, 885, 886, 887, 888, 889, 890, 892, 893, 894, 895, 897, 898, 899, 900, 901, 902, 903, 904, 905, 906, 907, 908, 910, 911, 912, 913, 914, 915, 917, 918, 920, 921, 922, 923, 924, 925, 926, 927, 928, 929, 930, 931, 932, 933, 934, 935, 936, 937, 938, 939, 941, 942, 943, 944, 946, 947, 948, 949, 951, 952, 953, 955, 957, 958, 959, 960, 961, 962, 963, 965, 966, 967, 968, 969, 970, 971, 972, 973, 974, 975, 977, 978, 979, 980, 981, 983, 984, 985, 987, 988, 989, 990, 992, 993, 994, 995, 998, 999, 1000, 1001, 1002, 1003, 1004, 1006, 1007, 1009, 1010, 1011, 1012, 1013, 1014, 1015, 1017, 1018, 1020, 1021, 1022, 1023, 1024, 1026, 1027, 1028, 1029, 1030, 1031, 1032, 1033, 1034, 1035, 1036, 1039, 1040, 1041, 1042, 1044, 1045, 1046, 1047, 1049, 1050, 1051, 1052, 1053, 1054, 1055, 1056, 1057, 1058, 1059, 1060, 1061, 1062, 1065, 1067, 1068, 1069, 1070, 1071, 1072, 1073, 1074, 1075, 1076, 1077, 1078, 1079, 1080, 1081, 1082, 1083, 1084, 1085, 1086, 1087, 1088, 1089, 1090, 1091, 1092, 1093, 1094, 1095, 1097, 1098, 1099, 1100, 1101, 1102, 1103, 1104, 1105, 1107, 1108, 1109, 1110, 1111, 1112, 1114, 1115, 1116, 1117, 1118, 1119, 1120, 1121, 1122, 1123, 1124, 1125, 1126, 1127, 1128, 1129, 1130, 1131, 1133, 1134, 1135, 1136, 1137, 1138, 1139, 1140, 1141, 1142, 1143, 1144, 1145, 1147, 1148, 1149, 1150, 1151, 1152, 1153, 1156, 1158, 1159, 1160, 1161, 1162, 1163, 1164, 1165, 1166, 1168, 1169, 1170, 1171, 1172, 1173, 1174, 1176, 1177, 1179, 1180, 1182, 1184, 1185, 1186, 1187, 1188, 1191, 1192, 1193, 1194, 1195, 1196, 1197, 1198, 1199, 1200, 1202, 1203, 1206, 1207, 1209, 1210, 1211, 1212, 1213, 1214, 1215, 1216, 1217, 1218, 1219, 1220, 1221, 1223, 1224, 1225, 1227, 1228, 1229, 1230, 1232, 1233, 1236, 1237, 1239, 1242, 1243, 1244, 1245, 1246, 1248, 1249, 1250, 1252, 1253, 1254, 1255, 1256, 1258, 1259, 1260, 1261, 1262, 1263, 1264, 1265, 1267, 1268, 1269, 1270, 1271, 1272, 1273, 1274, 1275, 1277, 1278, 1279, 1280, 1281, 1282, 1283, 1284, 1285, 1286, 1287, 1288, 1290, 1291, 1292, 1293, 1294, 1295, 1296, 1297, 1298, 1299, 1300, 1302, 1303, 1304, 1305, 1307, 1308, 1309, 1310, 1311, 1312, 1313, 1315, 1318, 1319, 1320, 1321, 1323, 1324, 1325, 1326, 1327, 1328, 1330, 1331, 1332, 1333, 1334, 1335, 1336, 1338, 1340, 1341, 1343, 1344, 1345, 1346, 1348, 1351, 1353, 1354, 1355, 1356, 1357, 1358, 1359, 1360, 1361, 1362, 1363, 1364, 1366, 1367, 1368, 1369, 1370, 1371, 1372, 1373, 1374, 1375, 1376, 1377, 1378, 1380, 1381, 1382, 1383, 1384, 1385, 1386, 1387, 1388, 1389, 1392, 1395, 1396, 1400, 1402, 1403, 1405, 1406, 1408, 1409, 1411, 1412, 1413, 1414, 1415, 1416, 1417, 1418, 1420, 1421, 1422, 1423, 1424, 1425, 1426, 1427, 1428, 1429, 1430, 1431, 1433, 1434, 1435, 1436, 1437, 1438, 1439, 1440, 1442, 1443, 1444, 1445, 1446, 1447, 1448, 1449, 1450, 1451, 1452, 1453, 1454, 1455, 1457, 1458, 1459, 1462, 1463, 1464, 1465, 1466, 1467, 1468, 1469, 1470, 1472, 1473, 1474, 1475, 1476, 1477, 1478, 1479, 1480, 1482, 1483, 1487, 1488, 1489, 1490, 1491, 1492, 1493, 1494, 1495, 1496, 1497, 1498, 1499, 1500, 1501, 1502, 1503, 1504, 1505, 1506, 1507, 1508, 1510, 1511, 1512, 1513, 1514, 1515, 1517, 1518, 1519, 1520, 1521, 1522, 1524, 1525, 1526, 1527, 1528, 1529, 1530, 1531, 1532, 1533, 1535, 1536, 1538, 1540, 1541, 1542, 1544, 1545, 1546, 1548, 1549, 1550, 1551, 1552, 1553, 1554, 1555, 1556, 1557, 1560, 1561, 1562, 1563, 1564, 1567, 1568, 1569, 1570, 1571, 1573, 1574, 1575, 1576, 1577, 1578, 1579, 1580, 1581, 1582, 1583, 1584, 1585, 1586, 1587, 1588, 1589, 1590, 1591, 1592, 1593, 1594, 1595, 1596, 1598, 1599, 1600, 1601, 1602, 1603, 1604, 1605, 1606, 1608, 1610, 1611, 1612, 1614, 1616, 1617, 1618, 1622, 1623, 1624, 1625, 1626, 1627, 1628, 1629, 1630, 1631, 1632, 1634, 1635, 1636, 1637, 1638, 1639, 1640, 1641, 1642, 1643, 1645, 1646, 1647, 1648, 1649, 1650, 1651, 1653, 1654, 1655, 1656, 1659, 1660, 1661]\n"
     ]
    }
   ],
   "source": [
    "unseen_movies = []\n",
    "for i in range(1663):\n",
    "    if(i not in seen_movies):\n",
    "        unseen_movies.append(i)\n",
    "        \n",
    "print(unseen_movies)"
   ]
  },
  {
   "cell_type": "code",
   "execution_count": 131,
   "metadata": {},
   "outputs": [
    {
     "data": {
      "text/plain": [
       "(271, 1392, 1663)"
      ]
     },
     "execution_count": 131,
     "metadata": {},
     "output_type": "execute_result"
    }
   ],
   "source": [
    "len(seen_movies), len(unseen_movies), len(seen_movies) + len(unseen_movies)"
   ]
  },
  {
   "cell_type": "code",
   "execution_count": 137,
   "metadata": {},
   "outputs": [
    {
     "data": {
      "text/plain": [
       "[0]"
      ]
     },
     "execution_count": 137,
     "metadata": {},
     "output_type": "execute_result"
    }
   ],
   "source": [
    "user_id = [1]\n",
    "encoded_user_id = user_enc.transform(user_id)\n",
    "\n",
    "list(encoded_user_id)"
   ]
  },
  {
   "cell_type": "code",
   "execution_count": 135,
   "metadata": {},
   "outputs": [
    {
     "data": {
      "text/plain": [
       "(2, 1392)"
      ]
     },
     "execution_count": 135,
     "metadata": {},
     "output_type": "execute_result"
    }
   ],
   "source": [
    "model_input = [np.asarray(list(encoded_user_id)*len(unseen_movies)), np.asarray(unseen_movies)]\n",
    "len(model_input), len(model_input[0])"
   ]
  },
  {
   "cell_type": "markdown",
   "metadata": {},
   "source": [
    "# Let's predict the ratings "
   ]
  },
  {
   "cell_type": "code",
   "execution_count": 138,
   "metadata": {},
   "outputs": [],
   "source": [
    "predicted_ratings = model.predict(model_input)"
   ]
  },
  {
   "cell_type": "code",
   "execution_count": 139,
   "metadata": {},
   "outputs": [
    {
     "name": "stdout",
     "output_type": "stream",
     "text": [
      "(1392, 9)\n"
     ]
    }
   ],
   "source": [
    "print(predicted_ratings.shape)"
   ]
  },
  {
   "cell_type": "code",
   "execution_count": 140,
   "metadata": {},
   "outputs": [
    {
     "data": {
      "text/plain": [
       "array([[9.0907121e-01, 9.0895280e-02, 4.3083260e-06, ..., 5.6542244e-06,\n",
       "        2.1372800e-06, 2.6515099e-06],\n",
       "       [9.3734300e-01, 6.2622301e-02, 4.3287805e-06, ..., 5.9286767e-06,\n",
       "        2.2188206e-06, 2.6363925e-06],\n",
       "       [9.2062330e-01, 7.9330340e-02, 5.8777914e-06, ..., 7.7823170e-06,\n",
       "        3.0296760e-06, 3.7735972e-06],\n",
       "       ...,\n",
       "       [9.4597179e-01, 5.4002520e-02, 3.5433211e-06, ..., 4.3674386e-06,\n",
       "        1.5266662e-06, 2.0495595e-06],\n",
       "       [8.2865912e-01, 1.7125416e-01, 1.1178685e-05, ..., 1.4870986e-05,\n",
       "        6.0254470e-06, 6.6035805e-06],\n",
       "       [7.2185177e-01, 2.7803150e-01, 1.2992010e-05, ..., 1.9490952e-05,\n",
       "        8.3736531e-06, 8.6515074e-06]], dtype=float32)"
      ]
     },
     "execution_count": 140,
     "metadata": {},
     "output_type": "execute_result"
    }
   ],
   "source": [
    "predicted_ratings"
   ]
  },
  {
   "cell_type": "code",
   "execution_count": 141,
   "metadata": {},
   "outputs": [
    {
     "data": {
      "text/plain": [
       "array([0.9090712 , 0.937343  , 0.9206233 , ..., 0.9459718 , 0.8286591 ,\n",
       "       0.72185177], dtype=float32)"
      ]
     },
     "execution_count": 141,
     "metadata": {},
     "output_type": "execute_result"
    }
   ],
   "source": [
    "predicted_ratings = np.max(predicted_ratings, axis=1)\n",
    "predicted_ratings\n"
   ]
  },
  {
   "cell_type": "code",
   "execution_count": 142,
   "metadata": {},
   "outputs": [
    {
     "data": {
      "text/plain": [
       "(1392,)"
      ]
     },
     "execution_count": 142,
     "metadata": {},
     "output_type": "execute_result"
    }
   ],
   "source": [
    "predicted_ratings.shape"
   ]
  },
  {
   "cell_type": "code",
   "execution_count": 143,
   "metadata": {},
   "outputs": [
    {
     "name": "stdout",
     "output_type": "stream",
     "text": [
      "[1047  283 1331 ...  913  738  904]\n"
     ]
    }
   ],
   "source": [
    "sorted_index = np.argsort(predicted_ratings)[::-1]\n",
    "print(sorted_index)"
   ]
  },
  {
   "cell_type": "code",
   "execution_count": 147,
   "metadata": {},
   "outputs": [
    {
     "data": {
      "text/plain": [
       "array(['Neon Bible, The (1995)', 'Celluloid Closet, The (1995)',\n",
       "       'Simple Twist of Fate, A (1994)', ..., 'Machine, The (1994)',\n",
       "       'In the Line of Duty 2 (1987)', 'Love! Valour! Compassion! (1997)'],\n",
       "      dtype=object)"
      ]
     },
     "execution_count": 147,
     "metadata": {},
     "output_type": "execute_result"
    }
   ],
   "source": [
    "recommended_movies = item_enc.inverse_transform(sorted_index)\n",
    "recommended_movies"
   ]
  },
  {
   "cell_type": "code",
   "execution_count": 148,
   "metadata": {},
   "outputs": [
    {
     "data": {
      "text/plain": [
       "(1392,)"
      ]
     },
     "execution_count": 148,
     "metadata": {},
     "output_type": "execute_result"
    }
   ],
   "source": [
    "recommended_movies.shape"
   ]
  },
  {
   "cell_type": "code",
   "execution_count": 149,
   "metadata": {},
   "outputs": [
    {
     "name": "stdout",
     "output_type": "stream",
     "text": [
      "['Neon Bible, The (1995)',\n",
      " 'Celluloid Closet, The (1995)',\n",
      " 'Simple Twist of Fate, A (1994)',\n",
      " 'Leading Man, The (1996)',\n",
      " 'Babysitter, The (1995)',\n",
      " 'Dangerous Minds (1995)',\n",
      " 'Richard III (1995)',\n",
      " 'Rainmaker, The (1997)',\n",
      " 'Associate, The (1996)',\n",
      " 'Blown Away (1994)',\n",
      " 'Gang Related (1997)',\n",
      " 'Grass Harp, The (1995)',\n",
      " 'Reality Bites (1994)',\n",
      " 'First Knight (1995)',\n",
      " 'Crows and Sparrows (1949)',\n",
      " 'Amadeus (1984)',\n",
      " \"Fathers' Day (1997)\",\n",
      " 'Chungking Express (1994)',\n",
      " 'Castle Freak (1995)',\n",
      " 'Cronos (1992)']\n"
     ]
    }
   ],
   "source": [
    "from pprint import pprint\n",
    "pprint(list(recommended_movies[:20]))"
   ]
  },
  {
   "cell_type": "markdown",
   "metadata": {},
   "source": [
    "# Recommendation function"
   ]
  },
  {
   "cell_type": "code",
   "execution_count": 158,
   "metadata": {},
   "outputs": [],
   "source": [
    "def recommender_system(user_id, model, n_movies):\n",
    "\n",
    "    print(\"\")\n",
    "    print(\"Movie seen by the User:\")\n",
    "    user_ = refined_dataset[refined_dataset['user_id'] == user_id]\n",
    "    movies_user = user_[\"movie title\"]\n",
    "    seen_movies = list(movies_user)\n",
    "    pprint(seen_movies)\n",
    "    print(\"\")\n",
    "\n",
    "    encoded_user_id = user_enc.transform([user_id])\n",
    "\n",
    "    unseen_movies = []\n",
    "    for i in range(len(refined_dataset[\"movie\"].unique())):\n",
    "        if(i not in seen_movies):\n",
    "            unseen_movies.append(i)\n",
    "        \n",
    "    model_input = [np.asarray(list(encoded_user_id)*len(unseen_movies)), np.asarray(unseen_movies)]\n",
    "    predicted_ratings = model.predict(model_input)\n",
    "    predicted_ratings = np.max(predicted_ratings, axis=1)\n",
    "    sorted_index = np.argsort(predicted_ratings)[::-1]\n",
    "    recommended_movies = item_enc.inverse_transform(sorted_index)\n",
    "    print(\"---------------------------------------------------------------------------------\")\n",
    "    print(\"Top \"+str(n_movies)+\" Movie recommendations for the User \"+str(user_id)+ \" are:\")\n",
    "    pprint(list(recommended_movies[:n_movies]))"
   ]
  },
  {
   "cell_type": "code",
   "execution_count": 159,
   "metadata": {
    "scrolled": false
   },
   "outputs": [
    {
     "name": "stdout",
     "output_type": "stream",
     "text": [
      "Enter user id\n",
      "1\n",
      "Enter number of movies to be recommended:\n",
      "20\n",
      "\n",
      "Movie seen by the User:\n",
      "['101 Dalmatians (1996)',\n",
      " '12 Angry Men (1957)',\n",
      " '20,000 Leagues Under the Sea (1954)',\n",
      " '2001: A Space Odyssey (1968)',\n",
      " 'Abyss, The (1989)',\n",
      " 'Ace Ventura: Pet Detective (1994)',\n",
      " 'Air Bud (1997)',\n",
      " 'Akira (1988)',\n",
      " 'Aladdin (1992)',\n",
      " 'Alien (1979)',\n",
      " 'Aliens (1986)',\n",
      " 'All Dogs Go to Heaven 2 (1996)',\n",
      " 'Amadeus (1984)',\n",
      " 'Angels and Insects (1995)',\n",
      " \"Antonia's Line (1995)\",\n",
      " 'Apocalypse Now (1979)',\n",
      " 'Apollo 13 (1995)',\n",
      " 'Aristocats, The (1970)',\n",
      " 'Army of Darkness (1993)',\n",
      " 'Austin Powers: International Man of Mystery (1997)',\n",
      " 'Babe (1995)',\n",
      " 'Back to the Future (1985)',\n",
      " 'Bad Boys (1995)',\n",
      " 'Basic Instinct (1992)',\n",
      " 'Batman & Robin (1997)',\n",
      " 'Batman Forever (1995)',\n",
      " 'Batman Returns (1992)',\n",
      " 'Beavis and Butt-head Do America (1996)',\n",
      " 'Bedknobs and Broomsticks (1971)',\n",
      " 'Belle de jour (1967)',\n",
      " 'Big Night (1996)',\n",
      " 'Billy Madison (1995)',\n",
      " 'Birdcage, The (1996)',\n",
      " 'Blade Runner (1982)',\n",
      " 'Blues Brothers, The (1980)',\n",
      " 'Bound (1996)',\n",
      " \"Bram Stoker's Dracula (1992)\",\n",
      " 'Braveheart (1995)',\n",
      " 'Brazil (1985)',\n",
      " \"Breakfast at Tiffany's (1961)\",\n",
      " 'Breaking the Waves (1996)',\n",
      " 'Bridge on the River Kwai, The (1957)',\n",
      " 'Brother Minister: The Assassination of Malcolm X (1994)',\n",
      " 'Brothers McMullen, The (1995)',\n",
      " 'Cable Guy, The (1996)',\n",
      " 'Cape Fear (1991)',\n",
      " \"Carlito's Way (1993)\",\n",
      " 'Chasing Amy (1997)',\n",
      " 'Cinema Paradiso (1988)',\n",
      " 'Citizen Kane (1941)',\n",
      " 'Citizen Ruth (1996)',\n",
      " 'Clerks (1994)',\n",
      " 'Clockwork Orange, A (1971)',\n",
      " 'Cold Comfort Farm (1995)',\n",
      " 'Contact (1997)',\n",
      " 'Copycat (1995)',\n",
      " 'Crimson Tide (1995)',\n",
      " 'Crow, The (1994)',\n",
      " 'Crumb (1994)',\n",
      " 'Cyrano de Bergerac (1990)',\n",
      " 'D3: The Mighty Ducks (1996)',\n",
      " 'Dances with Wolves (1990)',\n",
      " 'Dead Man Walking (1995)',\n",
      " 'Dead Poets Society (1989)',\n",
      " 'Delicatessen (1991)',\n",
      " 'Desperado (1995)',\n",
      " \"Devil's Own, The (1997)\",\n",
      " 'Diabolique (1996)',\n",
      " 'Die Hard (1988)',\n",
      " 'Die Hard 2 (1990)',\n",
      " 'Dirty Dancing (1987)',\n",
      " 'Disclosure (1994)',\n",
      " 'Dolores Claiborne (1994)',\n",
      " 'Doom Generation, The (1995)',\n",
      " 'Eat Drink Man Woman (1994)',\n",
      " 'Ed Wood (1994)',\n",
      " 'Empire Strikes Back, The (1980)',\n",
      " 'Event Horizon (1997)',\n",
      " 'Evil Dead II (1987)',\n",
      " 'Exotica (1994)',\n",
      " 'Fargo (1996)',\n",
      " 'Faster Pussycat! Kill! Kill! (1965)',\n",
      " 'Field of Dreams (1989)',\n",
      " 'Fifth Element, The (1997)',\n",
      " 'Firm, The (1993)',\n",
      " 'Fish Called Wanda, A (1988)',\n",
      " 'Flipper (1996)',\n",
      " 'Forrest Gump (1994)',\n",
      " 'Four Rooms (1995)',\n",
      " 'Four Weddings and a Funeral (1994)',\n",
      " 'Free Willy (1993)',\n",
      " 'Free Willy 2: The Adventure Home (1995)',\n",
      " 'French Twist (Gazon maudit) (1995)',\n",
      " 'Frighteners, The (1996)',\n",
      " 'From Dusk Till Dawn (1996)',\n",
      " 'Fugitive, The (1993)',\n",
      " 'Full Metal Jacket (1987)',\n",
      " 'Full Monty, The (1997)',\n",
      " 'Gattaca (1997)',\n",
      " 'George of the Jungle (1997)',\n",
      " 'Get Shorty (1995)',\n",
      " 'Ghost and the Darkness, The (1996)',\n",
      " 'Glengarry Glen Ross (1992)',\n",
      " 'Godfather, The (1972)',\n",
      " 'Godfather: Part II, The (1974)',\n",
      " 'GoldenEye (1995)',\n",
      " 'Gone with the Wind (1939)',\n",
      " 'Good Will Hunting (1997)',\n",
      " 'Good, The Bad and The Ugly, The (1966)',\n",
      " 'GoodFellas (1990)',\n",
      " 'Graduate, The (1967)',\n",
      " 'Grand Day Out, A (1992)',\n",
      " 'Grosse Pointe Blank (1997)',\n",
      " 'Groundhog Day (1993)',\n",
      " 'Haunted World of Edward D. Wood Jr., The (1995)',\n",
      " 'Heavy Metal (1981)',\n",
      " 'Henry V (1989)',\n",
      " 'Home Alone (1990)',\n",
      " 'Homeward Bound: The Incredible Journey (1993)',\n",
      " 'Hoop Dreams (1994)',\n",
      " 'Horseman on the Roof, The (Hussard sur le toit, Le) (1995)',\n",
      " 'Hot Shots! Part Deux (1993)',\n",
      " 'Hudsucker Proxy, The (1994)',\n",
      " 'Hunt for Red October, The (1990)',\n",
      " 'I.Q. (1994)',\n",
      " 'In the Company of Men (1997)',\n",
      " 'Independence Day (ID4) (1996)',\n",
      " 'Indiana Jones and the Last Crusade (1989)',\n",
      " 'Jaws (1975)',\n",
      " 'Jean de Florette (1986)',\n",
      " 'Jerry Maguire (1996)',\n",
      " 'Jude (1996)',\n",
      " 'Jungle2Jungle (1997)',\n",
      " 'Jurassic Park (1993)',\n",
      " 'Kansas City (1996)',\n",
      " 'Kids in the Hall: Brain Candy (1996)',\n",
      " 'Kolya (1996)',\n",
      " 'Kull the Conqueror (1997)',\n",
      " 'Last of the Mohicans, The (1992)',\n",
      " 'Lawnmower Man, The (1992)',\n",
      " 'Legends of the Fall (1994)',\n",
      " 'Lion King, The (1994)',\n",
      " 'Lone Star (1996)',\n",
      " 'Long Kiss Goodnight, The (1996)',\n",
      " 'Lost World: Jurassic Park, The (1997)',\n",
      " 'Love Bug, The (1969)',\n",
      " 'M*A*S*H (1970)',\n",
      " 'Mad Love (1995)',\n",
      " 'Madness of King George, The (1994)',\n",
      " 'Manon of the Spring (Manon des sources) (1986)',\n",
      " 'Mars Attacks! (1996)',\n",
      " 'Mask, The (1994)',\n",
      " 'Maverick (1994)',\n",
      " 'Maya Lin: A Strong Clear Vision (1994)',\n",
      " 'Men in Black (1997)',\n",
      " 'Mighty Aphrodite (1995)',\n",
      " 'Mimic (1997)',\n",
      " 'Mirror Has Two Faces, The (1996)',\n",
      " 'Moll Flanders (1996)',\n",
      " 'Monty Python and the Holy Grail (1974)',\n",
      " \"Monty Python's Life of Brian (1979)\",\n",
      " \"Mr. Holland's Opus (1995)\",\n",
      " 'Mr. Smith Goes to Washington (1939)',\n",
      " 'Much Ado About Nothing (1993)',\n",
      " 'Muppet Treasure Island (1996)',\n",
      " \"My Best Friend's Wedding (1997)\",\n",
      " 'Mystery Science Theater 3000: The Movie (1996)',\n",
      " 'Nadja (1994)',\n",
      " 'Natural Born Killers (1994)',\n",
      " 'Net, The (1995)',\n",
      " 'Nightmare Before Christmas, The (1993)',\n",
      " 'Nightmare on Elm Street, A (1984)',\n",
      " 'Nikita (La Femme Nikita) (1990)',\n",
      " 'On Golden Pond (1981)',\n",
      " 'Operation Dumbo Drop (1995)',\n",
      " 'Outbreak (1995)',\n",
      " 'Patton (1970)',\n",
      " 'Phenomenon (1996)',\n",
      " 'Pillow Book, The (1995)',\n",
      " 'Pink Floyd - The Wall (1982)',\n",
      " 'Platoon (1986)',\n",
      " 'Postino, Il (1994)',\n",
      " 'Priest (1994)',\n",
      " 'Princess Bride, The (1987)',\n",
      " 'Private Benjamin (1980)',\n",
      " 'Professional, The (1994)',\n",
      " 'Psycho (1960)',\n",
      " 'Pulp Fiction (1994)',\n",
      " 'Quiz Show (1994)',\n",
      " 'Raging Bull (1980)',\n",
      " 'Raiders of the Lost Ark (1981)',\n",
      " 'Raising Arizona (1987)',\n",
      " 'Ref, The (1994)',\n",
      " 'Remains of the Day, The (1993)',\n",
      " 'Reservoir Dogs (1992)',\n",
      " 'Return of the Jedi (1983)',\n",
      " 'Return of the Pink Panther, The (1974)',\n",
      " 'Richard III (1995)',\n",
      " 'Ridicule (1996)',\n",
      " 'Right Stuff, The (1983)',\n",
      " \"Robert A. Heinlein's The Puppet Masters (1994)\",\n",
      " 'Rock, The (1996)',\n",
      " 'Room with a View, A (1986)',\n",
      " 'Rumble in the Bronx (1995)',\n",
      " 'Santa Clause, The (1994)',\n",
      " 'Searching for Bobby Fischer (1993)',\n",
      " 'Seven (Se7en) (1995)',\n",
      " 'Sgt. Bilko (1996)',\n",
      " 'Shall We Dance? (1996)',\n",
      " 'Shanghai Triad (Yao a yao yao dao waipo qiao) (1995)',\n",
      " 'Shawshank Redemption, The (1994)',\n",
      " 'Shining, The (1980)',\n",
      " 'Silence of the Lambs, The (1991)',\n",
      " 'Sleeper (1973)',\n",
      " 'Sleepless in Seattle (1993)',\n",
      " 'Sling Blade (1996)',\n",
      " \"Smilla's Sense of Snow (1997)\",\n",
      " 'Sneakers (1992)',\n",
      " 'Snow White and the Seven Dwarfs (1937)',\n",
      " 'So I Married an Axe Murderer (1993)',\n",
      " 'Sound of Music, The (1965)',\n",
      " 'Spitfire Grill, The (1996)',\n",
      " 'Star Trek III: The Search for Spock (1984)',\n",
      " 'Star Trek IV: The Voyage Home (1986)',\n",
      " 'Star Trek VI: The Undiscovered Country (1991)',\n",
      " 'Star Trek: First Contact (1996)',\n",
      " 'Star Trek: The Wrath of Khan (1982)',\n",
      " 'Star Wars (1977)',\n",
      " 'Stargate (1994)',\n",
      " 'Starship Troopers (1997)',\n",
      " 'Steel (1997)',\n",
      " 'Sting, The (1973)',\n",
      " 'Strange Days (1995)',\n",
      " 'Striptease (1996)',\n",
      " 'Supercop (1992)',\n",
      " 'Swingers (1996)',\n",
      " 'Taxi Driver (1976)',\n",
      " 'Terminator 2: Judgment Day (1991)',\n",
      " 'Terminator, The (1984)',\n",
      " 'Theodore Rex (1995)',\n",
      " 'This Is Spinal Tap (1984)',\n",
      " 'Three Colors: Blue (1993)',\n",
      " 'Three Colors: Red (1994)',\n",
      " 'Three Colors: White (1994)',\n",
      " 'To Wong Foo, Thanks for Everything! Julie Newmar (1995)',\n",
      " 'Top Gun (1986)',\n",
      " 'Toy Story (1995)',\n",
      " 'True Romance (1993)',\n",
      " 'Truth About Cats & Dogs, The (1996)',\n",
      " 'Turbo: A Power Rangers Movie (1997)',\n",
      " 'Twelve Monkeys (1995)',\n",
      " 'Twister (1996)',\n",
      " 'Unbearable Lightness of Being, The (1988)',\n",
      " 'Under Siege (1992)',\n",
      " 'Unforgiven (1992)',\n",
      " 'Unhook the Stars (1996)',\n",
      " 'Usual Suspects, The (1995)',\n",
      " 'Wallace & Gromit: The Best of Aardman Animation (1996)',\n",
      " \"Weekend at Bernie's (1989)\",\n",
      " 'Welcome to the Dollhouse (1995)',\n",
      " \"What's Eating Gilbert Grape (1993)\",\n",
      " 'When Harry Met Sally... (1989)',\n",
      " 'When the Cats Away (Chacun cherche son chat) (1996)',\n",
      " 'While You Were Sleeping (1995)',\n",
      " 'White Balloon, The (1995)',\n",
      " 'Willy Wonka and the Chocolate Factory (1971)',\n",
      " 'Wizard of Oz, The (1939)',\n",
      " 'Wrong Trousers, The (1993)',\n",
      " 'Young Frankenstein (1974)',\n",
      " 'Young Guns (1988)',\n",
      " 'unknown']\n",
      "\n",
      "---------------------------------------------------------------------------------\n",
      "Top 20 Movie recommendations for the User 1 are:\n",
      "['Robin Hood: Men in Tights (1993)',\n",
      " 'Cool Runnings (1993)',\n",
      " 'Mimic (1997)',\n",
      " 'Jungle2Jungle (1997)',\n",
      " 'Volcano (1997)',\n",
      " 'Mulholland Falls (1996)',\n",
      " 'Beautician and the Beast, The (1997)',\n",
      " 'Eddie (1996)',\n",
      " 'Thinner (1996)',\n",
      " 'Swiss Family Robinson (1960)',\n",
      " 'Barb Wire (1996)',\n",
      " 'Sgt. Bilko (1996)',\n",
      " 'Broken Arrow (1996)',\n",
      " 'House Arrest (1996)',\n",
      " 'Batman & Robin (1997)',\n",
      " 'Island of Dr. Moreau, The (1996)',\n",
      " 'Tales from the Crypt Presents: Bordello of Blood (1996)',\n",
      " '101 Dalmatians (1996)',\n",
      " 'Great White Hype, The (1996)',\n",
      " 'Down Periscope (1996)']\n"
     ]
    }
   ],
   "source": [
    "print(\"Enter user id\")\n",
    "user_id= int(input())\n",
    "\n",
    "print(\"Enter number of movies to be recommended:\")\n",
    "n_movies = int(input())\n",
    "recommender_system(user_id,model,n_movies)"
   ]
  },
  {
   "cell_type": "code",
   "execution_count": null,
   "metadata": {},
   "outputs": [],
   "source": []
  }
 ],
 "metadata": {
  "kernelspec": {
   "display_name": "Python 3",
   "language": "python",
   "name": "python3"
  },
  "language_info": {
   "codemirror_mode": {
    "name": "ipython",
    "version": 3
   },
   "file_extension": ".py",
   "mimetype": "text/x-python",
   "name": "python",
   "nbconvert_exporter": "python",
   "pygments_lexer": "ipython3",
   "version": "3.8.3"
  }
 },
 "nbformat": 4,
 "nbformat_minor": 4
}
